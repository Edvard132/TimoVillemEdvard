{
 "cells": [
  {
   "cell_type": "markdown",
   "metadata": {},
   "source": [
    "Determine what is expected outcome of the game"
   ]
  },
  {
   "cell_type": "code",
   "execution_count": 1,
   "metadata": {},
   "outputs": [],
   "source": [
    "import numpy as np\n",
    "import pandas as pd\n",
    "import matplotlib.pyplot as plt\n",
    "import seaborn as sns"
   ]
  },
  {
   "cell_type": "code",
   "execution_count": 392,
   "metadata": {},
   "outputs": [
    {
     "name": "stderr",
     "output_type": "stream",
     "text": [
      "C:\\Users\\Kasutaja\\AppData\\Local\\Temp\\ipykernel_15080\\3526434771.py:2: DtypeWarning: Columns (68,69,70) have mixed types. Specify dtype option on import or set low_memory=False.\n",
      "  data = pd.read_csv(\"NBAdataõige.csv\", sep=\",\")\n"
     ]
    }
   ],
   "source": [
    "# Reading data from csv\n",
    "data = pd.read_csv(\"NBAdataõige.csv\", sep=\",\")"
   ]
  },
  {
   "cell_type": "code",
   "execution_count": 393,
   "metadata": {},
   "outputs": [
    {
     "data": {
      "text/plain": [
       "Index(['game_id', 'game_date', 'OT', 'H_A', 'Team_Abbrev', 'Team_Score',\n",
       "       'Team_pace', 'Team_efg_pct', 'Team_tov_pct', 'Team_orb_pct',\n",
       "       'Team_ft_rate', 'Team_off_rtg', 'Inactives', 'Opponent_Abbrev',\n",
       "       'Opponent_Score', 'Opponent_pace', 'Opponent_efg_pct',\n",
       "       'Opponent_tov_pct', 'Opponent_orb_pct', 'Opponent_ft_rate',\n",
       "       'Opponent_off_rtg', 'player', 'player_id', 'starter', 'mp', 'fg', 'fga',\n",
       "       'fg_pct', 'fg3', 'fg3a', 'fg3_pct', 'ft', 'fta', 'ft_pct', 'orb', 'drb',\n",
       "       'trb', 'ast', 'stl', 'blk', 'tov', 'pf', 'pts', 'plus_minus',\n",
       "       'did_not_play', 'is_inactive', 'ts_pct', 'efg_pct', 'fg3a_per_fga_pct',\n",
       "       'fta_per_fga_pct', 'orb_pct', 'drb_pct', 'trb_pct', 'ast_pct',\n",
       "       'stl_pct', 'blk_pct', 'tov_pct', 'usg_pct', 'off_rtg', 'def_rtg', 'bpm',\n",
       "       'season', 'minutes', 'double_double', 'triple_double', 'DKP', 'FDP',\n",
       "       'SDP', 'DKP_per_minute', 'FDP_per_minute', 'SDP_per_minute',\n",
       "       'pf_per_minute', 'ts', 'last_60_minutes_per_game_starting',\n",
       "       'last_60_minutes_per_game_bench', 'PG%', 'SG%', 'SF%', 'PF%', 'C%',\n",
       "       'active_position_minutes'],\n",
       "      dtype='object')"
      ]
     },
     "execution_count": 393,
     "metadata": {},
     "output_type": "execute_result"
    }
   ],
   "source": [
    "data.columns"
   ]
  },
  {
   "cell_type": "code",
   "execution_count": 35,
   "metadata": {},
   "outputs": [
    {
     "data": {
      "text/html": [
       "<div>\n",
       "<style scoped>\n",
       "    .dataframe tbody tr th:only-of-type {\n",
       "        vertical-align: middle;\n",
       "    }\n",
       "\n",
       "    .dataframe tbody tr th {\n",
       "        vertical-align: top;\n",
       "    }\n",
       "\n",
       "    .dataframe thead th {\n",
       "        text-align: right;\n",
       "    }\n",
       "</style>\n",
       "<table border=\"1\" class=\"dataframe\">\n",
       "  <thead>\n",
       "    <tr style=\"text-align: right;\">\n",
       "      <th></th>\n",
       "      <th>game_id</th>\n",
       "      <th>game_date</th>\n",
       "      <th>OT</th>\n",
       "      <th>H_A</th>\n",
       "      <th>Team_Abbrev</th>\n",
       "      <th>Team_Score</th>\n",
       "      <th>Team_pace</th>\n",
       "      <th>Team_efg_pct</th>\n",
       "      <th>Team_tov_pct</th>\n",
       "      <th>Team_orb_pct</th>\n",
       "      <th>...</th>\n",
       "      <th>pf_per_minute</th>\n",
       "      <th>ts</th>\n",
       "      <th>last_60_minutes_per_game_starting</th>\n",
       "      <th>last_60_minutes_per_game_bench</th>\n",
       "      <th>PG%</th>\n",
       "      <th>SG%</th>\n",
       "      <th>SF%</th>\n",
       "      <th>PF%</th>\n",
       "      <th>C%</th>\n",
       "      <th>active_position_minutes</th>\n",
       "    </tr>\n",
       "  </thead>\n",
       "  <tbody>\n",
       "    <tr>\n",
       "      <th>0</th>\n",
       "      <td>202012220BRK</td>\n",
       "      <td>2020-12-22</td>\n",
       "      <td>0</td>\n",
       "      <td>A</td>\n",
       "      <td>GSW</td>\n",
       "      <td>99</td>\n",
       "      <td>110.5</td>\n",
       "      <td>0.424</td>\n",
       "      <td>14.2</td>\n",
       "      <td>22.8</td>\n",
       "      <td>...</td>\n",
       "      <td>0.128068</td>\n",
       "      <td>17.76</td>\n",
       "      <td>NaN</td>\n",
       "      <td>NaN</td>\n",
       "      <td>0.0</td>\n",
       "      <td>0.0</td>\n",
       "      <td>47.0</td>\n",
       "      <td>51.0</td>\n",
       "      <td>3.0</td>\n",
       "      <td>NaN</td>\n",
       "    </tr>\n",
       "    <tr>\n",
       "      <th>1</th>\n",
       "      <td>202012220BRK</td>\n",
       "      <td>2020-12-22</td>\n",
       "      <td>0</td>\n",
       "      <td>A</td>\n",
       "      <td>GSW</td>\n",
       "      <td>99</td>\n",
       "      <td>110.5</td>\n",
       "      <td>0.424</td>\n",
       "      <td>14.2</td>\n",
       "      <td>22.8</td>\n",
       "      <td>...</td>\n",
       "      <td>0.032985</td>\n",
       "      <td>22.76</td>\n",
       "      <td>NaN</td>\n",
       "      <td>NaN</td>\n",
       "      <td>82.0</td>\n",
       "      <td>18.0</td>\n",
       "      <td>0.0</td>\n",
       "      <td>0.0</td>\n",
       "      <td>0.0</td>\n",
       "      <td>NaN</td>\n",
       "    </tr>\n",
       "    <tr>\n",
       "      <th>2</th>\n",
       "      <td>202012220BRK</td>\n",
       "      <td>2020-12-22</td>\n",
       "      <td>0</td>\n",
       "      <td>A</td>\n",
       "      <td>GSW</td>\n",
       "      <td>99</td>\n",
       "      <td>110.5</td>\n",
       "      <td>0.424</td>\n",
       "      <td>14.2</td>\n",
       "      <td>22.8</td>\n",
       "      <td>...</td>\n",
       "      <td>0.038986</td>\n",
       "      <td>14.00</td>\n",
       "      <td>NaN</td>\n",
       "      <td>NaN</td>\n",
       "      <td>0.0</td>\n",
       "      <td>33.0</td>\n",
       "      <td>40.0</td>\n",
       "      <td>25.0</td>\n",
       "      <td>2.0</td>\n",
       "      <td>NaN</td>\n",
       "    </tr>\n",
       "    <tr>\n",
       "      <th>3</th>\n",
       "      <td>202012220BRK</td>\n",
       "      <td>2020-12-22</td>\n",
       "      <td>0</td>\n",
       "      <td>A</td>\n",
       "      <td>GSW</td>\n",
       "      <td>99</td>\n",
       "      <td>110.5</td>\n",
       "      <td>0.424</td>\n",
       "      <td>14.2</td>\n",
       "      <td>22.8</td>\n",
       "      <td>...</td>\n",
       "      <td>0.082361</td>\n",
       "      <td>16.52</td>\n",
       "      <td>NaN</td>\n",
       "      <td>NaN</td>\n",
       "      <td>0.0</td>\n",
       "      <td>0.0</td>\n",
       "      <td>0.0</td>\n",
       "      <td>0.0</td>\n",
       "      <td>100.0</td>\n",
       "      <td>NaN</td>\n",
       "    </tr>\n",
       "    <tr>\n",
       "      <th>4</th>\n",
       "      <td>202012220BRK</td>\n",
       "      <td>2020-12-22</td>\n",
       "      <td>0</td>\n",
       "      <td>A</td>\n",
       "      <td>GSW</td>\n",
       "      <td>99</td>\n",
       "      <td>110.5</td>\n",
       "      <td>0.424</td>\n",
       "      <td>14.2</td>\n",
       "      <td>22.8</td>\n",
       "      <td>...</td>\n",
       "      <td>0.046404</td>\n",
       "      <td>6.88</td>\n",
       "      <td>NaN</td>\n",
       "      <td>NaN</td>\n",
       "      <td>0.0</td>\n",
       "      <td>0.0</td>\n",
       "      <td>2.0</td>\n",
       "      <td>33.0</td>\n",
       "      <td>65.0</td>\n",
       "      <td>NaN</td>\n",
       "    </tr>\n",
       "  </tbody>\n",
       "</table>\n",
       "<p>5 rows × 81 columns</p>\n",
       "</div>"
      ],
      "text/plain": [
       "        game_id   game_date  OT H_A Team_Abbrev  Team_Score  Team_pace  \\\n",
       "0  202012220BRK  2020-12-22   0   A         GSW          99      110.5   \n",
       "1  202012220BRK  2020-12-22   0   A         GSW          99      110.5   \n",
       "2  202012220BRK  2020-12-22   0   A         GSW          99      110.5   \n",
       "3  202012220BRK  2020-12-22   0   A         GSW          99      110.5   \n",
       "4  202012220BRK  2020-12-22   0   A         GSW          99      110.5   \n",
       "\n",
       "   Team_efg_pct  Team_tov_pct  Team_orb_pct  ...  pf_per_minute     ts  \\\n",
       "0         0.424          14.2          22.8  ...       0.128068  17.76   \n",
       "1         0.424          14.2          22.8  ...       0.032985  22.76   \n",
       "2         0.424          14.2          22.8  ...       0.038986  14.00   \n",
       "3         0.424          14.2          22.8  ...       0.082361  16.52   \n",
       "4         0.424          14.2          22.8  ...       0.046404   6.88   \n",
       "\n",
       "  last_60_minutes_per_game_starting last_60_minutes_per_game_bench   PG%  \\\n",
       "0                               NaN                            NaN   0.0   \n",
       "1                               NaN                            NaN  82.0   \n",
       "2                               NaN                            NaN   0.0   \n",
       "3                               NaN                            NaN   0.0   \n",
       "4                               NaN                            NaN   0.0   \n",
       "\n",
       "    SG%   SF%   PF%     C%  active_position_minutes  \n",
       "0   0.0  47.0  51.0    3.0                      NaN  \n",
       "1  18.0   0.0   0.0    0.0                      NaN  \n",
       "2  33.0  40.0  25.0    2.0                      NaN  \n",
       "3   0.0   0.0   0.0  100.0                      NaN  \n",
       "4   0.0   2.0  33.0   65.0                      NaN  \n",
       "\n",
       "[5 rows x 81 columns]"
      ]
     },
     "execution_count": 35,
     "metadata": {},
     "output_type": "execute_result"
    }
   ],
   "source": [
    "data.head()"
   ]
  },
  {
   "cell_type": "code",
   "execution_count": 131,
   "metadata": {},
   "outputs": [
    {
     "data": {
      "text/plain": [
       "(89499, 81)"
      ]
     },
     "execution_count": 131,
     "metadata": {},
     "output_type": "execute_result"
    }
   ],
   "source": [
    "data.shape"
   ]
  },
  {
   "cell_type": "code",
   "execution_count": 4,
   "metadata": {},
   "outputs": [
    {
     "data": {
      "text/plain": [
       "(2314,)"
      ]
     },
     "execution_count": 4,
     "metadata": {},
     "output_type": "execute_result"
    }
   ],
   "source": [
    "data['game_id'].unique().shape"
   ]
  },
  {
   "cell_type": "code",
   "execution_count": 5,
   "metadata": {},
   "outputs": [
    {
     "data": {
      "text/plain": [
       "(89499, 14)"
      ]
     },
     "execution_count": 5,
     "metadata": {},
     "output_type": "execute_result"
    }
   ],
   "source": [
    "# Copying data into new dataset with values that are needed\n",
    "df2 = pd.DataFrame([data.game_id, data.game_date, data.Team_Score, data.player, data.player_id, data.mp, data.fg_pct, data.fg3_pct, data.ft_pct, data.ast, data.stl, data.blk, data.pts, data.plus_minus]).transpose()\n",
    "\n",
    "df2.shape"
   ]
  },
  {
   "cell_type": "code",
   "execution_count": 139,
   "metadata": {},
   "outputs": [
    {
     "data": {
      "text/plain": [
       "(2314, 16)"
      ]
     },
     "execution_count": 139,
     "metadata": {},
     "output_type": "execute_result"
    }
   ],
   "source": [
    "# A dataframe of all played games\n",
    "games_data = pd.DataFrame([data.game_id, data.Team_Abbrev, data.Team_Score, data.Opponent_Abbrev, data.Opponent_Score,\n",
    "                           data.Team_pace, data.Team_efg_pct, data.Team_tov_pct, data.Team_orb_pct, data.Team_ft_rate,\n",
    "                           data.Opponent_pace, data.Opponent_efg_pct, data.Opponent_tov_pct, data.Opponent_orb_pct,\n",
    "                           data.Opponent_ft_rate]).T.drop_duplicates('game_id')\n",
    "games_data.rename(columns = {'Team_Abbrev':'team1', 'Team_Score':'team1_score', 'Opponent_Abbrev':'team2',\n",
    "                             'Opponent_Score':'team2_score', 'Team_pace' : 'team1_pace', 'Team_efg_pct' : 'team1_efgP',\n",
    "                             'Team_tov_pct' : 'team1_tovP', 'Team_orb_pct' : 'team1_orbP', 'Team_ft_rate' : 'team1_ftr',\n",
    "                             'Opponent_pace' : 'team2_pace', 'Opponent_efg_pct' : 'team2_efgP',\n",
    "                             'Opponent_tov_pct' : 'team2_tovP', 'Opponent_orb_pct' : 'team2_orbP',\n",
    "                             'Opponent_ft_rate' : 'team2_ftr'}, inplace = True)\n",
    "# who is playing home court\n",
    "games_data['home'] = games_data['game_id'].str.slice(-3,)\n",
    "\n",
    "games_data.shape"
   ]
  },
  {
   "cell_type": "code",
   "execution_count": 383,
   "metadata": {},
   "outputs": [
    {
     "name": "stderr",
     "output_type": "stream",
     "text": [
      "C:\\Users\\Kasutaja\\AppData\\Local\\Temp\\ipykernel_15080\\3735904407.py:7: SettingWithCopyWarning: \n",
      "A value is trying to be set on a copy of a slice from a DataFrame\n",
      "\n",
      "See the caveats in the documentation: https://pandas.pydata.org/pandas-docs/stable/user_guide/indexing.html#returning-a-view-versus-a-copy\n",
      "  games_data['won'].loc[games_data['game_id'] == g] = 1 if games_data['won'].loc[games_data['game_id'] == g].bool() else 0\n"
     ]
    }
   ],
   "source": [
    "#   adding columns for the winner of the match,\n",
    "#     'won' is 0 or 1 acording to if the home court player won.\n",
    "#     'won_name' is the winning teams name.\n",
    "\n",
    "games_data['won'] = games_data.team1_score > games_data.team2_score if games_data.home.equals(games_data.team1) else games_data.team1_score < games_data.team2_score\n",
    "for g in games_data['game_id']:\n",
    "    games_data['won'].loc[games_data['game_id'] == g] = 1 if games_data['won'].loc[games_data['game_id'] == g].bool() else 0\n",
    "    \n",
    "\n",
    "games_data['won_name'] = ''\n",
    "for g in games_data['game_id']:\n",
    "    \n",
    "    games_data['won_name'].loc[games_data['game_id'] == g] = games_data['team1'].loc[games_data['game_id'] == g] if np.greater(games_data['team1_score'].loc[games_data['game_id'] == g], games_data['team2_score'].loc[games_data['game_id'] == g]).bool() else games_data['team2'].loc[games_data['game_id'] == g]"
   ]
  },
  {
   "cell_type": "code",
   "execution_count": 384,
   "metadata": {
    "scrolled": false
   },
   "outputs": [
    {
     "data": {
      "text/html": [
       "<div>\n",
       "<style scoped>\n",
       "    .dataframe tbody tr th:only-of-type {\n",
       "        vertical-align: middle;\n",
       "    }\n",
       "\n",
       "    .dataframe tbody tr th {\n",
       "        vertical-align: top;\n",
       "    }\n",
       "\n",
       "    .dataframe thead th {\n",
       "        text-align: right;\n",
       "    }\n",
       "</style>\n",
       "<table border=\"1\" class=\"dataframe\">\n",
       "  <thead>\n",
       "    <tr style=\"text-align: right;\">\n",
       "      <th></th>\n",
       "      <th>game_id</th>\n",
       "      <th>team1</th>\n",
       "      <th>team1_score</th>\n",
       "      <th>team2</th>\n",
       "      <th>team2_score</th>\n",
       "      <th>team1_pace</th>\n",
       "      <th>team1_efgP</th>\n",
       "      <th>team1_tovP</th>\n",
       "      <th>team1_orbP</th>\n",
       "      <th>team1_ftr</th>\n",
       "      <th>team2_pace</th>\n",
       "      <th>team2_efgP</th>\n",
       "      <th>team2_tovP</th>\n",
       "      <th>team2_orbP</th>\n",
       "      <th>team2_ftr</th>\n",
       "      <th>home</th>\n",
       "      <th>won</th>\n",
       "      <th>won_name</th>\n",
       "    </tr>\n",
       "  </thead>\n",
       "  <tbody>\n",
       "    <tr>\n",
       "      <th>0</th>\n",
       "      <td>202012220BRK</td>\n",
       "      <td>GSW</td>\n",
       "      <td>99</td>\n",
       "      <td>BRK</td>\n",
       "      <td>125</td>\n",
       "      <td>110.5</td>\n",
       "      <td>0.424</td>\n",
       "      <td>14.2</td>\n",
       "      <td>22.8</td>\n",
       "      <td>0.152</td>\n",
       "      <td>110.5</td>\n",
       "      <td>0.538</td>\n",
       "      <td>15.9</td>\n",
       "      <td>27.7</td>\n",
       "      <td>0.283</td>\n",
       "      <td>BRK</td>\n",
       "      <td>1</td>\n",
       "      <td>BRK</td>\n",
       "    </tr>\n",
       "    <tr>\n",
       "      <th>13</th>\n",
       "      <td>202012250MIL</td>\n",
       "      <td>GSW</td>\n",
       "      <td>99</td>\n",
       "      <td>MIL</td>\n",
       "      <td>138</td>\n",
       "      <td>107.5</td>\n",
       "      <td>0.394</td>\n",
       "      <td>9.1</td>\n",
       "      <td>16.9</td>\n",
       "      <td>0.212</td>\n",
       "      <td>107.5</td>\n",
       "      <td>0.667</td>\n",
       "      <td>14.4</td>\n",
       "      <td>25.0</td>\n",
       "      <td>0.2</td>\n",
       "      <td>MIL</td>\n",
       "      <td>1</td>\n",
       "      <td>MIL</td>\n",
       "    </tr>\n",
       "    <tr>\n",
       "      <th>26</th>\n",
       "      <td>202012270CHI</td>\n",
       "      <td>GSW</td>\n",
       "      <td>129</td>\n",
       "      <td>CHI</td>\n",
       "      <td>128</td>\n",
       "      <td>115.2</td>\n",
       "      <td>0.49</td>\n",
       "      <td>9.3</td>\n",
       "      <td>17.5</td>\n",
       "      <td>0.26</td>\n",
       "      <td>115.2</td>\n",
       "      <td>0.61</td>\n",
       "      <td>19.4</td>\n",
       "      <td>18.4</td>\n",
       "      <td>0.267</td>\n",
       "      <td>CHI</td>\n",
       "      <td>0</td>\n",
       "      <td>GSW</td>\n",
       "    </tr>\n",
       "    <tr>\n",
       "      <th>38</th>\n",
       "      <td>202012290DET</td>\n",
       "      <td>GSW</td>\n",
       "      <td>116</td>\n",
       "      <td>DET</td>\n",
       "      <td>106</td>\n",
       "      <td>102.2</td>\n",
       "      <td>0.592</td>\n",
       "      <td>17.1</td>\n",
       "      <td>12.1</td>\n",
       "      <td>0.342</td>\n",
       "      <td>102.2</td>\n",
       "      <td>0.451</td>\n",
       "      <td>12.5</td>\n",
       "      <td>30.8</td>\n",
       "      <td>0.25</td>\n",
       "      <td>DET</td>\n",
       "      <td>0</td>\n",
       "      <td>GSW</td>\n",
       "    </tr>\n",
       "    <tr>\n",
       "      <th>50</th>\n",
       "      <td>202101010GSW</td>\n",
       "      <td>GSW</td>\n",
       "      <td>98</td>\n",
       "      <td>POR</td>\n",
       "      <td>123</td>\n",
       "      <td>104.4</td>\n",
       "      <td>0.437</td>\n",
       "      <td>13.8</td>\n",
       "      <td>6.5</td>\n",
       "      <td>0.367</td>\n",
       "      <td>104.4</td>\n",
       "      <td>0.543</td>\n",
       "      <td>8.7</td>\n",
       "      <td>16.3</td>\n",
       "      <td>0.25</td>\n",
       "      <td>GSW</td>\n",
       "      <td>1</td>\n",
       "      <td>POR</td>\n",
       "    </tr>\n",
       "  </tbody>\n",
       "</table>\n",
       "</div>"
      ],
      "text/plain": [
       "         game_id team1 team1_score team2 team2_score team1_pace team1_efgP  \\\n",
       "0   202012220BRK   GSW          99   BRK         125      110.5      0.424   \n",
       "13  202012250MIL   GSW          99   MIL         138      107.5      0.394   \n",
       "26  202012270CHI   GSW         129   CHI         128      115.2       0.49   \n",
       "38  202012290DET   GSW         116   DET         106      102.2      0.592   \n",
       "50  202101010GSW   GSW          98   POR         123      104.4      0.437   \n",
       "\n",
       "   team1_tovP team1_orbP team1_ftr team2_pace team2_efgP team2_tovP  \\\n",
       "0        14.2       22.8     0.152      110.5      0.538       15.9   \n",
       "13        9.1       16.9     0.212      107.5      0.667       14.4   \n",
       "26        9.3       17.5      0.26      115.2       0.61       19.4   \n",
       "38       17.1       12.1     0.342      102.2      0.451       12.5   \n",
       "50       13.8        6.5     0.367      104.4      0.543        8.7   \n",
       "\n",
       "   team2_orbP team2_ftr home won won_name  \n",
       "0        27.7     0.283  BRK   1      BRK  \n",
       "13       25.0       0.2  MIL   1      MIL  \n",
       "26       18.4     0.267  CHI   0      GSW  \n",
       "38       30.8      0.25  DET   0      GSW  \n",
       "50       16.3      0.25  GSW   1      POR  "
      ]
     },
     "execution_count": 384,
     "metadata": {},
     "output_type": "execute_result"
    }
   ],
   "source": [
    "games_data.head()"
   ]
  },
  {
   "cell_type": "code",
   "execution_count": 385,
   "metadata": {},
   "outputs": [
    {
     "data": {
      "text/plain": [
       "(2314, 18)"
      ]
     },
     "execution_count": 385,
     "metadata": {},
     "output_type": "execute_result"
    }
   ],
   "source": [
    "games_data.shape"
   ]
  },
  {
   "cell_type": "code",
   "execution_count": 394,
   "metadata": {},
   "outputs": [
    {
     "data": {
      "text/html": [
       "<div>\n",
       "<style scoped>\n",
       "    .dataframe tbody tr th:only-of-type {\n",
       "        vertical-align: middle;\n",
       "    }\n",
       "\n",
       "    .dataframe tbody tr th {\n",
       "        vertical-align: top;\n",
       "    }\n",
       "\n",
       "    .dataframe thead th {\n",
       "        text-align: right;\n",
       "    }\n",
       "</style>\n",
       "<table border=\"1\" class=\"dataframe\">\n",
       "  <thead>\n",
       "    <tr style=\"text-align: right;\">\n",
       "      <th></th>\n",
       "      <th>team</th>\n",
       "    </tr>\n",
       "  </thead>\n",
       "  <tbody>\n",
       "    <tr>\n",
       "      <th>0</th>\n",
       "      <td>GSW</td>\n",
       "    </tr>\n",
       "    <tr>\n",
       "      <th>940</th>\n",
       "      <td>BRK</td>\n",
       "    </tr>\n",
       "    <tr>\n",
       "      <th>2949</th>\n",
       "      <td>LAC</td>\n",
       "    </tr>\n",
       "    <tr>\n",
       "      <th>5227</th>\n",
       "      <td>LAL</td>\n",
       "    </tr>\n",
       "    <tr>\n",
       "      <th>7210</th>\n",
       "      <td>CHO</td>\n",
       "    </tr>\n",
       "  </tbody>\n",
       "</table>\n",
       "</div>"
      ],
      "text/plain": [
       "     team\n",
       "0     GSW\n",
       "940   BRK\n",
       "2949  LAC\n",
       "5227  LAL\n",
       "7210  CHO"
      ]
     },
     "execution_count": 394,
     "metadata": {},
     "output_type": "execute_result"
    }
   ],
   "source": [
    "# creating the teams_data dataframe\n",
    "teams_data = pd.DataFrame([data['Team_Abbrev']]).T.drop_duplicates('Team_Abbrev')\n",
    "teams_data.rename(columns = {'Team_Abbrev':'team'}, inplace = True)\n",
    "\n",
    "teams_data.head()"
   ]
  },
  {
   "cell_type": "code",
   "execution_count": 396,
   "metadata": {},
   "outputs": [
    {
     "name": "stdout",
     "output_type": "stream",
     "text": [
      "(30, 5)\n"
     ]
    },
    {
     "name": "stderr",
     "output_type": "stream",
     "text": [
      "C:\\Users\\Kasutaja\\AppData\\Local\\Temp\\ipykernel_15080\\1426522303.py:16: SettingWithCopyWarning: \n",
      "A value is trying to be set on a copy of a slice from a DataFrame\n",
      "\n",
      "See the caveats in the documentation: https://pandas.pydata.org/pandas-docs/stable/user_guide/indexing.html#returning-a-view-versus-a-copy\n",
      "  teams_data['points'].loc[teams_data['team'] == t] = points1 + points2\n",
      "C:\\Users\\Kasutaja\\AppData\\Local\\Temp\\ipykernel_15080\\1426522303.py:17: SettingWithCopyWarning: \n",
      "A value is trying to be set on a copy of a slice from a DataFrame\n",
      "\n",
      "See the caveats in the documentation: https://pandas.pydata.org/pandas-docs/stable/user_guide/indexing.html#returning-a-view-versus-a-copy\n",
      "  teams_data['home_wins'].loc[teams_data['team'] == t] = home_wins\n",
      "C:\\Users\\Kasutaja\\AppData\\Local\\Temp\\ipykernel_15080\\1426522303.py:18: SettingWithCopyWarning: \n",
      "A value is trying to be set on a copy of a slice from a DataFrame\n",
      "\n",
      "See the caveats in the documentation: https://pandas.pydata.org/pandas-docs/stable/user_guide/indexing.html#returning-a-view-versus-a-copy\n",
      "  teams_data['home_losses'].loc[teams_data['team'] == t] = home_losses\n",
      "C:\\Users\\Kasutaja\\AppData\\Local\\Temp\\ipykernel_15080\\1426522303.py:19: SettingWithCopyWarning: \n",
      "A value is trying to be set on a copy of a slice from a DataFrame\n",
      "\n",
      "See the caveats in the documentation: https://pandas.pydata.org/pandas-docs/stable/user_guide/indexing.html#returning-a-view-versus-a-copy\n",
      "  teams_data['home_winrate'].loc[teams_data['team'] == t] = home_wins / (home_losses + home_wins)\n"
     ]
    },
    {
     "data": {
      "text/html": [
       "<div>\n",
       "<style scoped>\n",
       "    .dataframe tbody tr th:only-of-type {\n",
       "        vertical-align: middle;\n",
       "    }\n",
       "\n",
       "    .dataframe tbody tr th {\n",
       "        vertical-align: top;\n",
       "    }\n",
       "\n",
       "    .dataframe thead th {\n",
       "        text-align: right;\n",
       "    }\n",
       "</style>\n",
       "<table border=\"1\" class=\"dataframe\">\n",
       "  <thead>\n",
       "    <tr style=\"text-align: right;\">\n",
       "      <th></th>\n",
       "      <th>team</th>\n",
       "      <th>points</th>\n",
       "      <th>home_wins</th>\n",
       "      <th>home_losses</th>\n",
       "      <th>home_winrate</th>\n",
       "    </tr>\n",
       "  </thead>\n",
       "  <tbody>\n",
       "    <tr>\n",
       "      <th>0</th>\n",
       "      <td>GSW</td>\n",
       "      <td>15311</td>\n",
       "      <td>20</td>\n",
       "      <td>51</td>\n",
       "      <td>0.281690</td>\n",
       "    </tr>\n",
       "    <tr>\n",
       "      <th>940</th>\n",
       "      <td>BRK</td>\n",
       "      <td>18358</td>\n",
       "      <td>24</td>\n",
       "      <td>57</td>\n",
       "      <td>0.296296</td>\n",
       "    </tr>\n",
       "    <tr>\n",
       "      <th>2949</th>\n",
       "      <td>LAC</td>\n",
       "      <td>20188</td>\n",
       "      <td>31</td>\n",
       "      <td>58</td>\n",
       "      <td>0.348315</td>\n",
       "    </tr>\n",
       "    <tr>\n",
       "      <th>5227</th>\n",
       "      <td>LAL</td>\n",
       "      <td>18998</td>\n",
       "      <td>30</td>\n",
       "      <td>57</td>\n",
       "      <td>0.344828</td>\n",
       "    </tr>\n",
       "    <tr>\n",
       "      <th>7210</th>\n",
       "      <td>CHO</td>\n",
       "      <td>14685</td>\n",
       "      <td>37</td>\n",
       "      <td>30</td>\n",
       "      <td>0.552239</td>\n",
       "    </tr>\n",
       "    <tr>\n",
       "      <th>8183</th>\n",
       "      <td>CLE</td>\n",
       "      <td>14424</td>\n",
       "      <td>43</td>\n",
       "      <td>29</td>\n",
       "      <td>0.597222</td>\n",
       "    </tr>\n",
       "    <tr>\n",
       "      <th>9073</th>\n",
       "      <td>NYK</td>\n",
       "      <td>15174</td>\n",
       "      <td>29</td>\n",
       "      <td>43</td>\n",
       "      <td>0.402778</td>\n",
       "    </tr>\n",
       "    <tr>\n",
       "      <th>10934</th>\n",
       "      <td>IND</td>\n",
       "      <td>16953</td>\n",
       "      <td>36</td>\n",
       "      <td>39</td>\n",
       "      <td>0.480000</td>\n",
       "    </tr>\n",
       "    <tr>\n",
       "      <th>11896</th>\n",
       "      <td>MIA</td>\n",
       "      <td>18662</td>\n",
       "      <td>39</td>\n",
       "      <td>45</td>\n",
       "      <td>0.464286</td>\n",
       "    </tr>\n",
       "    <tr>\n",
       "      <th>13899</th>\n",
       "      <td>ORL</td>\n",
       "      <td>15854</td>\n",
       "      <td>44</td>\n",
       "      <td>29</td>\n",
       "      <td>0.602740</td>\n",
       "    </tr>\n",
       "    <tr>\n",
       "      <th>14778</th>\n",
       "      <td>WAS</td>\n",
       "      <td>17428</td>\n",
       "      <td>42</td>\n",
       "      <td>33</td>\n",
       "      <td>0.560000</td>\n",
       "    </tr>\n",
       "    <tr>\n",
       "      <th>16778</th>\n",
       "      <td>PHI</td>\n",
       "      <td>18063</td>\n",
       "      <td>46</td>\n",
       "      <td>34</td>\n",
       "      <td>0.575000</td>\n",
       "    </tr>\n",
       "    <tr>\n",
       "      <th>19028</th>\n",
       "      <td>NOP</td>\n",
       "      <td>16592</td>\n",
       "      <td>38</td>\n",
       "      <td>34</td>\n",
       "      <td>0.527778</td>\n",
       "    </tr>\n",
       "    <tr>\n",
       "      <th>19997</th>\n",
       "      <td>TOR</td>\n",
       "      <td>17332</td>\n",
       "      <td>38</td>\n",
       "      <td>40</td>\n",
       "      <td>0.487179</td>\n",
       "    </tr>\n",
       "    <tr>\n",
       "      <th>20940</th>\n",
       "      <td>MIL</td>\n",
       "      <td>20960</td>\n",
       "      <td>57</td>\n",
       "      <td>31</td>\n",
       "      <td>0.647727</td>\n",
       "    </tr>\n",
       "    <tr>\n",
       "      <th>23438</th>\n",
       "      <td>BOS</td>\n",
       "      <td>18830</td>\n",
       "      <td>47</td>\n",
       "      <td>36</td>\n",
       "      <td>0.566265</td>\n",
       "    </tr>\n",
       "    <tr>\n",
       "      <th>25449</th>\n",
       "      <td>ATL</td>\n",
       "      <td>17587</td>\n",
       "      <td>38</td>\n",
       "      <td>40</td>\n",
       "      <td>0.487179</td>\n",
       "    </tr>\n",
       "    <tr>\n",
       "      <th>27747</th>\n",
       "      <td>CHI</td>\n",
       "      <td>14914</td>\n",
       "      <td>32</td>\n",
       "      <td>38</td>\n",
       "      <td>0.457143</td>\n",
       "    </tr>\n",
       "    <tr>\n",
       "      <th>28742</th>\n",
       "      <td>SAS</td>\n",
       "      <td>16192</td>\n",
       "      <td>33</td>\n",
       "      <td>37</td>\n",
       "      <td>0.471429</td>\n",
       "    </tr>\n",
       "    <tr>\n",
       "      <th>29704</th>\n",
       "      <td>MEM</td>\n",
       "      <td>17293</td>\n",
       "      <td>38</td>\n",
       "      <td>38</td>\n",
       "      <td>0.500000</td>\n",
       "    </tr>\n",
       "    <tr>\n",
       "      <th>31632</th>\n",
       "      <td>DET</td>\n",
       "      <td>14754</td>\n",
       "      <td>33</td>\n",
       "      <td>36</td>\n",
       "      <td>0.478261</td>\n",
       "    </tr>\n",
       "    <tr>\n",
       "      <th>32590</th>\n",
       "      <td>MIN</td>\n",
       "      <td>15321</td>\n",
       "      <td>33</td>\n",
       "      <td>35</td>\n",
       "      <td>0.485294</td>\n",
       "    </tr>\n",
       "    <tr>\n",
       "      <th>33521</th>\n",
       "      <td>SAC</td>\n",
       "      <td>16116</td>\n",
       "      <td>32</td>\n",
       "      <td>39</td>\n",
       "      <td>0.450704</td>\n",
       "    </tr>\n",
       "    <tr>\n",
       "      <th>34491</th>\n",
       "      <td>DEN</td>\n",
       "      <td>19597</td>\n",
       "      <td>55</td>\n",
       "      <td>32</td>\n",
       "      <td>0.632184</td>\n",
       "    </tr>\n",
       "    <tr>\n",
       "      <th>36573</th>\n",
       "      <td>UTA</td>\n",
       "      <td>18475</td>\n",
       "      <td>52</td>\n",
       "      <td>28</td>\n",
       "      <td>0.650000</td>\n",
       "    </tr>\n",
       "    <tr>\n",
       "      <th>38801</th>\n",
       "      <td>POR</td>\n",
       "      <td>18244</td>\n",
       "      <td>38</td>\n",
       "      <td>40</td>\n",
       "      <td>0.487179</td>\n",
       "    </tr>\n",
       "    <tr>\n",
       "      <th>40815</th>\n",
       "      <td>DAL</td>\n",
       "      <td>18316</td>\n",
       "      <td>44</td>\n",
       "      <td>36</td>\n",
       "      <td>0.550000</td>\n",
       "    </tr>\n",
       "    <tr>\n",
       "      <th>42819</th>\n",
       "      <td>PHO</td>\n",
       "      <td>18992</td>\n",
       "      <td>51</td>\n",
       "      <td>35</td>\n",
       "      <td>0.593023</td>\n",
       "    </tr>\n",
       "    <tr>\n",
       "      <th>45519</th>\n",
       "      <td>OKC</td>\n",
       "      <td>16238</td>\n",
       "      <td>27</td>\n",
       "      <td>49</td>\n",
       "      <td>0.355263</td>\n",
       "    </tr>\n",
       "    <tr>\n",
       "      <th>46431</th>\n",
       "      <td>HOU</td>\n",
       "      <td>17607</td>\n",
       "      <td>36</td>\n",
       "      <td>42</td>\n",
       "      <td>0.461538</td>\n",
       "    </tr>\n",
       "  </tbody>\n",
       "</table>\n",
       "</div>"
      ],
      "text/plain": [
       "      team  points  home_wins  home_losses  home_winrate\n",
       "0      GSW   15311         20           51      0.281690\n",
       "940    BRK   18358         24           57      0.296296\n",
       "2949   LAC   20188         31           58      0.348315\n",
       "5227   LAL   18998         30           57      0.344828\n",
       "7210   CHO   14685         37           30      0.552239\n",
       "8183   CLE   14424         43           29      0.597222\n",
       "9073   NYK   15174         29           43      0.402778\n",
       "10934  IND   16953         36           39      0.480000\n",
       "11896  MIA   18662         39           45      0.464286\n",
       "13899  ORL   15854         44           29      0.602740\n",
       "14778  WAS   17428         42           33      0.560000\n",
       "16778  PHI   18063         46           34      0.575000\n",
       "19028  NOP   16592         38           34      0.527778\n",
       "19997  TOR   17332         38           40      0.487179\n",
       "20940  MIL   20960         57           31      0.647727\n",
       "23438  BOS   18830         47           36      0.566265\n",
       "25449  ATL   17587         38           40      0.487179\n",
       "27747  CHI   14914         32           38      0.457143\n",
       "28742  SAS   16192         33           37      0.471429\n",
       "29704  MEM   17293         38           38      0.500000\n",
       "31632  DET   14754         33           36      0.478261\n",
       "32590  MIN   15321         33           35      0.485294\n",
       "33521  SAC   16116         32           39      0.450704\n",
       "34491  DEN   19597         55           32      0.632184\n",
       "36573  UTA   18475         52           28      0.650000\n",
       "38801  POR   18244         38           40      0.487179\n",
       "40815  DAL   18316         44           36      0.550000\n",
       "42819  PHO   18992         51           35      0.593023\n",
       "45519  OKC   16238         27           49      0.355263\n",
       "46431  HOU   17607         36           42      0.461538"
      ]
     },
     "execution_count": 396,
     "metadata": {},
     "output_type": "execute_result"
    }
   ],
   "source": [
    "#filling teams_data with values\n",
    "\n",
    "teams_data['points'] = 0\n",
    "teams_data['home_wins'] = 0\n",
    "teams_data['home_losses'] = 0\n",
    "teams_data['home_winrate'] = 0\n",
    "\n",
    "for t in teams_data['team']:\n",
    "    #print('team:', t)\n",
    "    points1 = games_data[games_data.team1 == t]['team1_score'].sum()\n",
    "    points2 = games_data[games_data.team2 == t]['team2_score'].sum()\n",
    "    #print('overall points:', points1 + points2)\n",
    "    \n",
    "    home_wins = len(games_data[(games_data.home == t) & (games_data.won == True)])\n",
    "    #print('homew wins:', home_wins)\n",
    "    home_losses = len(games_data[(games_data.home == t) & (games_data.won == False)])\n",
    "    \n",
    "    teams_data['points'].loc[teams_data['team'] == t] = points1 + points2\n",
    "    teams_data['home_wins'].loc[teams_data['team'] == t] = home_wins\n",
    "    teams_data['home_losses'].loc[teams_data['team'] == t] = home_losses\n",
    "    teams_data['home_winrate'].loc[teams_data['team'] == t] = home_wins / (home_losses + home_wins)\n",
    "    \n",
    "print(teams_data.shape)\n",
    "teams_data.head(30)"
   ]
  },
  {
   "cell_type": "code",
   "execution_count": 286,
   "metadata": {},
   "outputs": [
    {
     "data": {
      "text/plain": [
       "<AxesSubplot:xlabel='team', ylabel='home_winrate'>"
      ]
     },
     "execution_count": 286,
     "metadata": {},
     "output_type": "execute_result"
    },
    {
     "data": {
      "image/png": "[encoded data removed]",
      "text/plain": [
       "<Figure size 1500x1000 with 1 Axes>"
      ]
     },
     "metadata": {},
     "output_type": "display_data"
    }
   ],
   "source": [
    "#The winrate of games played on the home field, by team\n",
    "\n",
    "teams_data.plot(x='team', y='home_winrate',kind='scatter', figsize=(15,10))"
   ]
  },
  {
   "cell_type": "code",
   "execution_count": 49,
   "metadata": {},
   "outputs": [
    {
     "data": {
      "text/plain": [
       "<AxesSubplot:ylabel='Team_Abbrev'>"
      ]
     },
     "execution_count": 49,
     "metadata": {},
     "output_type": "execute_result"
    },
    {
     "data": {
      "image/png": "[encoded data removed]",
      "text/plain": [
       "<Figure size 600x800 with 1 Axes>"
      ]
     },
     "metadata": {},
     "output_type": "display_data"
    }
   ],
   "source": [
    "#A bar graph of points over all data of a team\n",
    "teams_data.plot(x='Team_Abbrev', y='points', kind='barh', color='b', figsize=(6,8))"
   ]
  },
  {
   "cell_type": "markdown",
   "metadata": {},
   "source": [
    "# Machine learning model"
   ]
  },
  {
   "cell_type": "code",
   "execution_count": 431,
   "metadata": {},
   "outputs": [],
   "source": [
    "from sklearn.model_selection import train_test_split\n",
    "from sklearn.metrics import mean_squared_error, max_error, mean_absolute_error, accuracy_score\n",
    "from sklearn.naive_bayes import GaussianNB\n",
    "from sklearn.linear_model import LinearRegression\n",
    "from sklearn.neighbors import KNeighborsClassifier\n",
    "from sklearn.neighbors import KNeighborsRegressor"
   ]
  },
  {
   "cell_type": "code",
   "execution_count": 158,
   "metadata": {
    "scrolled": true
   },
   "outputs": [
    {
     "data": {
      "text/plain": [
       "Index(['game_id', 'team1', 'team1_score', 'team2', 'team2_score', 'team1_pace',\n",
       "       'team1_efgP', 'team1_tovP', 'team1_orbP', 'team1_ftr', 'team2_pace',\n",
       "       'team2_efgP', 'team2_tovP', 'team2_orbP', 'team2_ftr', 'home', 'won'],\n",
       "      dtype='object')"
      ]
     },
     "execution_count": 158,
     "metadata": {},
     "output_type": "execute_result"
    }
   ],
   "source": [
    "games_data.columns"
   ]
  },
  {
   "cell_type": "code",
   "execution_count": 351,
   "metadata": {},
   "outputs": [
    {
     "name": "stdout",
     "output_type": "stream",
     "text": [
      "(2314, 30)\n",
      "(2314, 30)\n",
      "(2314, 90)\n"
     ]
    }
   ],
   "source": [
    "# creating onehot vectors of both playing teams, and who has home court\n",
    "\n",
    "onehot1 = pd.get_dummies(games_data['team1'], 'team1')\n",
    "onehot2 = pd.get_dummies(games_data['team2'], 'team2')\n",
    "onehot3 = pd.get_dummies(games_data['home'], 'home')\n",
    "print(onehot1.shape)\n",
    "print(onehot2.shape)\n",
    "onehot = pd.concat([onehot1, onehot2, onehot3], axis=1)\n",
    "print(onehot.shape)\n",
    "#list(onehot.columns)\n"
   ]
  },
  {
   "cell_type": "markdown",
   "metadata": {},
   "source": [
    "### LinearRegression model"
   ]
  },
  {
   "cell_type": "code",
   "execution_count": 398,
   "metadata": {},
   "outputs": [
    {
     "name": "stdout",
     "output_type": "stream",
     "text": [
      "(2314, 90)\n"
     ]
    }
   ],
   "source": [
    "# the 90 onehot vectors are input for the model\n",
    "train_columns1 = list(onehot.columns)\n",
    "X1 = pd.concat([games_data, onehot], axis=1)\n",
    "X1 = X[train_columns]\n",
    "print(X.shape)\n",
    "y1 = games_data[\"won\"]"
   ]
  },
  {
   "cell_type": "code",
   "execution_count": 353,
   "metadata": {},
   "outputs": [],
   "source": [
    "#function o get the accuracy of predicitons\n",
    "def accuracy(prediction, actual):\n",
    "    assert prediction.shape == actual.shape\n",
    "    \n",
    "    acc = pd.DataFrame(pred == y_test)\n",
    "\n",
    "    return acc.value_counts()[True] / len(acc)"
   ]
  },
  {
   "cell_type": "code",
   "execution_count": 406,
   "metadata": {},
   "outputs": [
    {
     "name": "stdout",
     "output_type": "stream",
     "text": [
      "Prediction accuracy of the model: 0.6068466522678184\n"
     ]
    }
   ],
   "source": [
    "#gets the average of a 100 runs\n",
    "mean_acc = 0\n",
    "repeats = 100\n",
    "for _ in range(repeats):\n",
    "    X_train, X_test, y_train, y_test = train_test_split(X1.values, y1.values, test_size=0.2)\n",
    "    \n",
    "    model1 = LinearRegression()\n",
    "    model1.fit(X_train, y_train)\n",
    "\n",
    "    pred = model1.predict(X_test)\n",
    "    for i in range(len(pred)):\n",
    "        pred[i] = round(pred[i])\n",
    "        \n",
    "    acc = accuracy(pred, y_test)\n",
    "    mean_acc += acc\n",
    "    \n",
    "mean_acc /= repeats\n",
    "\n",
    "print('Prediction accuracy of the model:', mean_acc)"
   ]
  },
  {
   "cell_type": "markdown",
   "metadata": {},
   "source": [
    "### GaussianNB model"
   ]
  },
  {
   "cell_type": "code",
   "execution_count": 403,
   "metadata": {},
   "outputs": [],
   "source": [
    "train_columns = list(onehot.columns)\n",
    "X2 = pd.concat([games_data, onehot], axis=1)\n",
    "X2 = X[train_columns]\n",
    "y2 = games_data[\"won_name\"]"
   ]
  },
  {
   "cell_type": "code",
   "execution_count": 407,
   "metadata": {
    "scrolled": true
   },
   "outputs": [
    {
     "name": "stdout",
     "output_type": "stream",
     "text": [
      "Prediction accuracy of the model: 0.13742980561555077\n"
     ]
    }
   ],
   "source": [
    "\n",
    "mean_acc = 0\n",
    "repeats = 100\n",
    "for _ in range(repeats):\n",
    "    X_train, X_test, y_train, y_test = train_test_split(X2.values, y2.values, test_size=0.2)\n",
    "    \n",
    "    model2 = GaussianNB()\n",
    "    model2.fit(X_train, y_train)\n",
    "\n",
    "    pred = model2.predict(X_test)\n",
    "    \n",
    "    acc = accuracy_score(pred, y_test)#mean_squared_error(pred, y_test)\n",
    "    mean_acc += acc\n",
    "    \n",
    "mean_acc /= repeats\n",
    "\n",
    "print('Prediction accuracy of the model:', mean_acc)"
   ]
  },
  {
   "cell_type": "markdown",
   "metadata": {},
   "source": [
    "### KNeighborsClassifier model"
   ]
  },
  {
   "cell_type": "code",
   "execution_count": 429,
   "metadata": {},
   "outputs": [],
   "source": [
    "train_columns = list(onehot.columns)\n",
    "X3 = pd.concat([games_data, onehot], axis=1)\n",
    "X3 = X[train_columns]\n",
    "y3 = games_data[\"won_name\"]"
   ]
  },
  {
   "cell_type": "code",
   "execution_count": 430,
   "metadata": {
    "scrolled": true
   },
   "outputs": [
    {
     "name": "stdout",
     "output_type": "stream",
     "text": [
      "Prediction accuracy of the model: 0.5035637149028078\n"
     ]
    }
   ],
   "source": [
    "mean_acc = 0\n",
    "repeats = 100\n",
    "for _ in range(repeats):\n",
    "    X_train, X_test, y_train, y_test = train_test_split(X3.values, y3.values, test_size=0.2)\n",
    "    \n",
    "    model3 = KNeighborsClassifier()\n",
    "    model3.fit(X_train, y_train)\n",
    "\n",
    "    pred = model3.predict(X_test)\n",
    "    \n",
    "    acc = accuracy_score(pred, y_test)#mean_squared_error(pred, y_test)\n",
    "    mean_acc += acc\n",
    "    \n",
    "mean_acc /= repeats\n",
    "\n",
    "print('Prediction accuracy of the model:', mean_acc)"
   ]
  },
  {
   "cell_type": "markdown",
   "metadata": {},
   "source": [
    "### KNeighborsRegressor model"
   ]
  },
  {
   "cell_type": "code",
   "execution_count": 435,
   "metadata": {},
   "outputs": [],
   "source": [
    "train_columns = list(onehot.columns)\n",
    "X4 = pd.concat([games_data, onehot], axis=1)\n",
    "X4 = X[train_columns]\n",
    "y4 = games_data[\"won\"]"
   ]
  },
  {
   "cell_type": "code",
   "execution_count": 437,
   "metadata": {},
   "outputs": [
    {
     "name": "stdout",
     "output_type": "stream",
     "text": [
      "Prediction accuracy of the model: 0.07149028077753782\n"
     ]
    }
   ],
   "source": [
    "mean_acc = 0\n",
    "repeats = 100\n",
    "for _ in range(repeats):\n",
    "    X_train, X_test, y_train, y_test = train_test_split(X4.values, y4.values, test_size=0.2)\n",
    "    \n",
    "    model4 = KNeighborsRegressor()\n",
    "    model4.fit(X_train, y_train)\n",
    "\n",
    "    pred = model4.predict(X_test)\n",
    "    \n",
    "    acc = accuracy(pred, y_test)#mean_squared_error(pred, y_test)\n",
    "    mean_acc += acc\n",
    "    \n",
    "mean_acc /= repeats\n",
    "\n",
    "print('Prediction accuracy of the model:', mean_acc)"
   ]
  },
  {
   "cell_type": "markdown",
   "metadata": {},
   "source": [
    "# Predicting actual games"
   ]
  },
  {
   "cell_type": "code",
   "execution_count": 361,
   "metadata": {},
   "outputs": [
    {
     "data": {
      "text/plain": [
       "(1, 90)"
      ]
     },
     "execution_count": 361,
     "metadata": {},
     "output_type": "execute_result"
    }
   ],
   "source": [
    "pd.DataFrame(np.zeros((1, 90)), columns=onehot.columns).shape"
   ]
  },
  {
   "cell_type": "code",
   "execution_count": 425,
   "metadata": {},
   "outputs": [],
   "source": [
    "def predict_game_outcome(model, team1='', team2='', home=''):\n",
    "    pred_val = pd.DataFrame(np.zeros((1, 90)), columns=onehot.columns)\n",
    "    pred_val['team1_' + team1.upper()] = 1\n",
    "    pred_val['team2_' + team2.upper()] = 1\n",
    "    pred_val['home_' + home.upper()] = 1\n",
    "    #print('shape:' , pred_val.shape)\n",
    "    p = model.predict(pred_val)[0]\n",
    "    \n",
    "    winner = ''\n",
    "    if type(p) == np.str_:\n",
    "        print(f'{p} will win')\n",
    "    else:\n",
    "        if round(p) == 1:\n",
    "            if home == team1:\n",
    "                winner = team1\n",
    "            else:\n",
    "                winner = team2\n",
    "        else:\n",
    "            if home == team1:\n",
    "                winner = team2\n",
    "            else:\n",
    "                winner = team2\n",
    "        print(f'{p} - {winner} will win')"
   ]
  },
  {
   "cell_type": "code",
   "execution_count": 427,
   "metadata": {},
   "outputs": [
    {
     "name": "stdout",
     "output_type": "stream",
     "text": [
      "0.46875 - ORL will win\n"
     ]
    },
    {
     "name": "stderr",
     "output_type": "stream",
     "text": [
      "C:\\Users\\Kasutaja\\.conda\\envs\\IDS\\lib\\site-packages\\sklearn\\base.py:443: UserWarning: X has feature names, but LinearRegression was fitted without feature names\n",
      "  warnings.warn(\n"
     ]
    }
   ],
   "source": [
    "predict_game_outcome(model1, 'PHO', 'ORL', 'ORL')"
   ]
  }
 ],
 "metadata": {
  "kernelspec": {
   "display_name": "Python 3 (ipykernel)",
   "language": "python",
   "name": "python3"
  },
  "language_info": {
   "codemirror_mode": {
    "name": "ipython",
    "version": 3
   },
   "file_extension": ".py",
   "mimetype": "text/x-python",
   "name": "python",
   "nbconvert_exporter": "python",
   "pygments_lexer": "ipython3",
   "version": "3.9.13"
  }
 },
 "nbformat": 4,
 "nbformat_minor": 2
}
