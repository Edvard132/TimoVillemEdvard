{
 "cells": [
  {
   "cell_type": "markdown",
   "metadata": {},
   "source": [
    "Determine what is expected outcome of the game"
   ]
  },
  {
   "cell_type": "code",
   "execution_count": 1,
   "metadata": {},
   "outputs": [],
   "source": [
    "import numpy as np\n",
    "import pandas as pd\n",
    "import matplotlib.pyplot as plt\n",
    "import seaborn as sns"
   ]
  },
  {
   "cell_type": "code",
   "execution_count": 2,
   "metadata": {},
   "outputs": [
    {
     "name": "stderr",
     "output_type": "stream",
     "text": [
      "C:\\Users\\Edvard\\AppData\\Local\\Temp\\ipykernel_26080\\3526434771.py:2: DtypeWarning: Columns (68,69,70) have mixed types. Specify dtype option on import or set low_memory=False.\n",
      "  data = pd.read_csv(\"NBAdataõige.csv\", sep=\",\")\n"
     ]
    }
   ],
   "source": [
    "# Reading data from csv\n",
    "data = pd.read_csv(\"NBAdataõige.csv\", sep=\",\")"
   ]
  },
  {
   "cell_type": "code",
   "execution_count": 3,
   "metadata": {},
   "outputs": [
    {
     "data": {
      "text/plain": [
       "Index(['game_id', 'game_date', 'OT', 'H_A', 'Team_Abbrev', 'Team_Score',\n",
       "       'Team_pace', 'Team_efg_pct', 'Team_tov_pct', 'Team_orb_pct',\n",
       "       'Team_ft_rate', 'Team_off_rtg', 'Inactives', 'Opponent_Abbrev',\n",
       "       'Opponent_Score', 'Opponent_pace', 'Opponent_efg_pct',\n",
       "       'Opponent_tov_pct', 'Opponent_orb_pct', 'Opponent_ft_rate',\n",
       "       'Opponent_off_rtg', 'player', 'player_id', 'starter', 'mp', 'fg', 'fga',\n",
       "       'fg_pct', 'fg3', 'fg3a', 'fg3_pct', 'ft', 'fta', 'ft_pct', 'orb', 'drb',\n",
       "       'trb', 'ast', 'stl', 'blk', 'tov', 'pf', 'pts', 'plus_minus',\n",
       "       'did_not_play', 'is_inactive', 'ts_pct', 'efg_pct', 'fg3a_per_fga_pct',\n",
       "       'fta_per_fga_pct', 'orb_pct', 'drb_pct', 'trb_pct', 'ast_pct',\n",
       "       'stl_pct', 'blk_pct', 'tov_pct', 'usg_pct', 'off_rtg', 'def_rtg', 'bpm',\n",
       "       'season', 'minutes', 'double_double', 'triple_double', 'DKP', 'FDP',\n",
       "       'SDP', 'DKP_per_minute', 'FDP_per_minute', 'SDP_per_minute',\n",
       "       'pf_per_minute', 'ts', 'last_60_minutes_per_game_starting',\n",
       "       'last_60_minutes_per_game_bench', 'PG%', 'SG%', 'SF%', 'PF%', 'C%',\n",
       "       'active_position_minutes'],\n",
       "      dtype='object')"
      ]
     },
     "execution_count": 3,
     "metadata": {},
     "output_type": "execute_result"
    }
   ],
   "source": [
    "data.columns"
   ]
  },
  {
   "cell_type": "code",
   "execution_count": 4,
   "metadata": {},
   "outputs": [
    {
     "data": {
      "text/html": [
       "<div>\n",
       "<style scoped>\n",
       "    .dataframe tbody tr th:only-of-type {\n",
       "        vertical-align: middle;\n",
       "    }\n",
       "\n",
       "    .dataframe tbody tr th {\n",
       "        vertical-align: top;\n",
       "    }\n",
       "\n",
       "    .dataframe thead th {\n",
       "        text-align: right;\n",
       "    }\n",
       "</style>\n",
       "<table border=\"1\" class=\"dataframe\">\n",
       "  <thead>\n",
       "    <tr style=\"text-align: right;\">\n",
       "      <th></th>\n",
       "      <th>game_id</th>\n",
       "      <th>game_date</th>\n",
       "      <th>OT</th>\n",
       "      <th>H_A</th>\n",
       "      <th>Team_Abbrev</th>\n",
       "      <th>Team_Score</th>\n",
       "      <th>Team_pace</th>\n",
       "      <th>Team_efg_pct</th>\n",
       "      <th>Team_tov_pct</th>\n",
       "      <th>Team_orb_pct</th>\n",
       "      <th>...</th>\n",
       "      <th>pf_per_minute</th>\n",
       "      <th>ts</th>\n",
       "      <th>last_60_minutes_per_game_starting</th>\n",
       "      <th>last_60_minutes_per_game_bench</th>\n",
       "      <th>PG%</th>\n",
       "      <th>SG%</th>\n",
       "      <th>SF%</th>\n",
       "      <th>PF%</th>\n",
       "      <th>C%</th>\n",
       "      <th>active_position_minutes</th>\n",
       "    </tr>\n",
       "  </thead>\n",
       "  <tbody>\n",
       "    <tr>\n",
       "      <th>0</th>\n",
       "      <td>202012220BRK</td>\n",
       "      <td>2020-12-22</td>\n",
       "      <td>0</td>\n",
       "      <td>A</td>\n",
       "      <td>GSW</td>\n",
       "      <td>99</td>\n",
       "      <td>110.5</td>\n",
       "      <td>0.424</td>\n",
       "      <td>14.2</td>\n",
       "      <td>22.8</td>\n",
       "      <td>...</td>\n",
       "      <td>0.128068</td>\n",
       "      <td>17.76</td>\n",
       "      <td>NaN</td>\n",
       "      <td>NaN</td>\n",
       "      <td>0.0</td>\n",
       "      <td>0.0</td>\n",
       "      <td>47.0</td>\n",
       "      <td>51.0</td>\n",
       "      <td>3.0</td>\n",
       "      <td>NaN</td>\n",
       "    </tr>\n",
       "    <tr>\n",
       "      <th>1</th>\n",
       "      <td>202012220BRK</td>\n",
       "      <td>2020-12-22</td>\n",
       "      <td>0</td>\n",
       "      <td>A</td>\n",
       "      <td>GSW</td>\n",
       "      <td>99</td>\n",
       "      <td>110.5</td>\n",
       "      <td>0.424</td>\n",
       "      <td>14.2</td>\n",
       "      <td>22.8</td>\n",
       "      <td>...</td>\n",
       "      <td>0.032985</td>\n",
       "      <td>22.76</td>\n",
       "      <td>NaN</td>\n",
       "      <td>NaN</td>\n",
       "      <td>82.0</td>\n",
       "      <td>18.0</td>\n",
       "      <td>0.0</td>\n",
       "      <td>0.0</td>\n",
       "      <td>0.0</td>\n",
       "      <td>NaN</td>\n",
       "    </tr>\n",
       "    <tr>\n",
       "      <th>2</th>\n",
       "      <td>202012220BRK</td>\n",
       "      <td>2020-12-22</td>\n",
       "      <td>0</td>\n",
       "      <td>A</td>\n",
       "      <td>GSW</td>\n",
       "      <td>99</td>\n",
       "      <td>110.5</td>\n",
       "      <td>0.424</td>\n",
       "      <td>14.2</td>\n",
       "      <td>22.8</td>\n",
       "      <td>...</td>\n",
       "      <td>0.038986</td>\n",
       "      <td>14.00</td>\n",
       "      <td>NaN</td>\n",
       "      <td>NaN</td>\n",
       "      <td>0.0</td>\n",
       "      <td>33.0</td>\n",
       "      <td>40.0</td>\n",
       "      <td>25.0</td>\n",
       "      <td>2.0</td>\n",
       "      <td>NaN</td>\n",
       "    </tr>\n",
       "    <tr>\n",
       "      <th>3</th>\n",
       "      <td>202012220BRK</td>\n",
       "      <td>2020-12-22</td>\n",
       "      <td>0</td>\n",
       "      <td>A</td>\n",
       "      <td>GSW</td>\n",
       "      <td>99</td>\n",
       "      <td>110.5</td>\n",
       "      <td>0.424</td>\n",
       "      <td>14.2</td>\n",
       "      <td>22.8</td>\n",
       "      <td>...</td>\n",
       "      <td>0.082361</td>\n",
       "      <td>16.52</td>\n",
       "      <td>NaN</td>\n",
       "      <td>NaN</td>\n",
       "      <td>0.0</td>\n",
       "      <td>0.0</td>\n",
       "      <td>0.0</td>\n",
       "      <td>0.0</td>\n",
       "      <td>100.0</td>\n",
       "      <td>NaN</td>\n",
       "    </tr>\n",
       "    <tr>\n",
       "      <th>4</th>\n",
       "      <td>202012220BRK</td>\n",
       "      <td>2020-12-22</td>\n",
       "      <td>0</td>\n",
       "      <td>A</td>\n",
       "      <td>GSW</td>\n",
       "      <td>99</td>\n",
       "      <td>110.5</td>\n",
       "      <td>0.424</td>\n",
       "      <td>14.2</td>\n",
       "      <td>22.8</td>\n",
       "      <td>...</td>\n",
       "      <td>0.046404</td>\n",
       "      <td>6.88</td>\n",
       "      <td>NaN</td>\n",
       "      <td>NaN</td>\n",
       "      <td>0.0</td>\n",
       "      <td>0.0</td>\n",
       "      <td>2.0</td>\n",
       "      <td>33.0</td>\n",
       "      <td>65.0</td>\n",
       "      <td>NaN</td>\n",
       "    </tr>\n",
       "  </tbody>\n",
       "</table>\n",
       "<p>5 rows × 81 columns</p>\n",
       "</div>"
      ],
      "text/plain": [
       "        game_id   game_date  OT H_A Team_Abbrev  Team_Score  Team_pace  \\\n",
       "0  202012220BRK  2020-12-22   0   A         GSW          99      110.5   \n",
       "1  202012220BRK  2020-12-22   0   A         GSW          99      110.5   \n",
       "2  202012220BRK  2020-12-22   0   A         GSW          99      110.5   \n",
       "3  202012220BRK  2020-12-22   0   A         GSW          99      110.5   \n",
       "4  202012220BRK  2020-12-22   0   A         GSW          99      110.5   \n",
       "\n",
       "   Team_efg_pct  Team_tov_pct  Team_orb_pct  ...  pf_per_minute     ts  \\\n",
       "0         0.424          14.2          22.8  ...       0.128068  17.76   \n",
       "1         0.424          14.2          22.8  ...       0.032985  22.76   \n",
       "2         0.424          14.2          22.8  ...       0.038986  14.00   \n",
       "3         0.424          14.2          22.8  ...       0.082361  16.52   \n",
       "4         0.424          14.2          22.8  ...       0.046404   6.88   \n",
       "\n",
       "  last_60_minutes_per_game_starting last_60_minutes_per_game_bench   PG%  \\\n",
       "0                               NaN                            NaN   0.0   \n",
       "1                               NaN                            NaN  82.0   \n",
       "2                               NaN                            NaN   0.0   \n",
       "3                               NaN                            NaN   0.0   \n",
       "4                               NaN                            NaN   0.0   \n",
       "\n",
       "    SG%   SF%   PF%     C%  active_position_minutes  \n",
       "0   0.0  47.0  51.0    3.0                      NaN  \n",
       "1  18.0   0.0   0.0    0.0                      NaN  \n",
       "2  33.0  40.0  25.0    2.0                      NaN  \n",
       "3   0.0   0.0   0.0  100.0                      NaN  \n",
       "4   0.0   2.0  33.0   65.0                      NaN  \n",
       "\n",
       "[5 rows x 81 columns]"
      ]
     },
     "execution_count": 4,
     "metadata": {},
     "output_type": "execute_result"
    }
   ],
   "source": [
    "data.head()"
   ]
  },
  {
   "cell_type": "code",
   "execution_count": 5,
   "metadata": {},
   "outputs": [
    {
     "data": {
      "text/plain": [
       "(2314,)"
      ]
     },
     "execution_count": 5,
     "metadata": {},
     "output_type": "execute_result"
    }
   ],
   "source": [
    "data['game_id'].unique().shape"
   ]
  },
  {
   "cell_type": "code",
   "execution_count": 6,
   "metadata": {},
   "outputs": [
    {
     "data": {
      "text/plain": [
       "(89499, 14)"
      ]
     },
     "execution_count": 6,
     "metadata": {},
     "output_type": "execute_result"
    }
   ],
   "source": [
    "# Copying data into new dataset with values that are needed\n",
    "df2 = pd.DataFrame([data.game_id, data.game_date, data.Team_Score, data.player, data.player_id, data.mp, data.fg_pct, data.fg3_pct, data.ft_pct, data.ast, data.stl, data.blk, data.pts, data.plus_minus]).transpose()\n",
    "\n",
    "df2.shape"
   ]
  },
  {
   "cell_type": "code",
   "execution_count": 7,
   "metadata": {},
   "outputs": [],
   "source": [
    "# A dataframe of all played games, with columns for team names and repective scores\n",
    "games_data = pd.DataFrame([data.game_id, data.Team_Abbrev, data.Team_Score, data.Opponent_Abbrev, data.Opponent_Score, data.Team_pace, data.Team_efg_pct, data.Team_tov_pct, data.Team_orb_pct, data.Team_ft_rate, data.Opponent_pace, data.Opponent_efg_pct, data.Opponent_tov_pct, data.Opponent_orb_pct, data.Opponent_ft_rate]).T.drop_duplicates('game_id')\n",
    "games_data.rename(columns = {'Team_Abbrev':'team1', 'Team_Score':'team1_score', 'Opponent_Abbrev':'team2', 'Opponent_Score':'team2_score', 'eam_pace' : 'team1_pace', 'team_efg_pct' : 'team1_efgP', 'Team_tov_pct' : 'team1_tovP', 'Team_orb_pct' : 'team1_orbP', 'Team_ft_rate' : 'team1_ftr', 'Opponent_pace' : 'team2_pace', 'Opponent_efg_pct' : 'team2_efgP', 'Opponent_tov_pct' : 'team2_tovP', 'Opponent_orb_pct' : 'team2_orbP', 'Opponent_ft_rate' : 'team2_ftr'}, inplace = True)\n",
    "games_data['home'] = games_data['game_id'].str.slice(-3,)\n",
    "\n",
    "#games_data.shapedata.team_pace, data.team_efg_pct, data.team_tov_pct, data.team_orb_pct, data.team_ft_rate, data.Opponent_pace, data.Opponent_efg_pct, data.Opponent_pace_tov_pct, data.Opponent_orb_pct, data.Opponent_ft_rate"
   ]
  },
  {
   "cell_type": "code",
   "execution_count": 8,
   "metadata": {},
   "outputs": [],
   "source": [
    "games_data['won'] = games_data.team1_score > games_data.team2_score if games_data.home.equals(games_data.team1) else games_data.team1_score < games_data.team2_score"
   ]
  },
  {
   "cell_type": "code",
   "execution_count": null,
   "metadata": {},
   "outputs": [],
   "source": []
  },
  {
   "cell_type": "code",
   "execution_count": null,
   "metadata": {
    "scrolled": true
   },
   "outputs": [],
   "source": [
    "games_data.head()"
   ]
  },
  {
   "cell_type": "code",
   "execution_count": 10,
   "metadata": {},
   "outputs": [
    {
     "data": {
      "text/html": [
       "<div>\n",
       "<style scoped>\n",
       "    .dataframe tbody tr th:only-of-type {\n",
       "        vertical-align: middle;\n",
       "    }\n",
       "\n",
       "    .dataframe tbody tr th {\n",
       "        vertical-align: top;\n",
       "    }\n",
       "\n",
       "    .dataframe thead th {\n",
       "        text-align: right;\n",
       "    }\n",
       "</style>\n",
       "<table border=\"1\" class=\"dataframe\">\n",
       "  <thead>\n",
       "    <tr style=\"text-align: right;\">\n",
       "      <th></th>\n",
       "      <th>game_id</th>\n",
       "      <th>game_date</th>\n",
       "      <th>OT</th>\n",
       "      <th>H_A</th>\n",
       "      <th>Team_Abbrev</th>\n",
       "      <th>Team_Score</th>\n",
       "      <th>Team_pace</th>\n",
       "      <th>Team_efg_pct</th>\n",
       "      <th>Team_tov_pct</th>\n",
       "      <th>Team_orb_pct</th>\n",
       "      <th>...</th>\n",
       "      <th>pf_per_minute</th>\n",
       "      <th>ts</th>\n",
       "      <th>last_60_minutes_per_game_starting</th>\n",
       "      <th>last_60_minutes_per_game_bench</th>\n",
       "      <th>PG%</th>\n",
       "      <th>SG%</th>\n",
       "      <th>SF%</th>\n",
       "      <th>PF%</th>\n",
       "      <th>C%</th>\n",
       "      <th>active_position_minutes</th>\n",
       "    </tr>\n",
       "  </thead>\n",
       "  <tbody>\n",
       "    <tr>\n",
       "      <th>0</th>\n",
       "      <td>202012220BRK</td>\n",
       "      <td>2020-12-22</td>\n",
       "      <td>0</td>\n",
       "      <td>A</td>\n",
       "      <td>GSW</td>\n",
       "      <td>99</td>\n",
       "      <td>110.5</td>\n",
       "      <td>0.424</td>\n",
       "      <td>14.2</td>\n",
       "      <td>22.8</td>\n",
       "      <td>...</td>\n",
       "      <td>0.128068</td>\n",
       "      <td>17.76</td>\n",
       "      <td>NaN</td>\n",
       "      <td>NaN</td>\n",
       "      <td>0.0</td>\n",
       "      <td>0.0</td>\n",
       "      <td>47.0</td>\n",
       "      <td>51.0</td>\n",
       "      <td>3.0</td>\n",
       "      <td>NaN</td>\n",
       "    </tr>\n",
       "    <tr>\n",
       "      <th>1</th>\n",
       "      <td>202012220BRK</td>\n",
       "      <td>2020-12-22</td>\n",
       "      <td>0</td>\n",
       "      <td>A</td>\n",
       "      <td>GSW</td>\n",
       "      <td>99</td>\n",
       "      <td>110.5</td>\n",
       "      <td>0.424</td>\n",
       "      <td>14.2</td>\n",
       "      <td>22.8</td>\n",
       "      <td>...</td>\n",
       "      <td>0.032985</td>\n",
       "      <td>22.76</td>\n",
       "      <td>NaN</td>\n",
       "      <td>NaN</td>\n",
       "      <td>82.0</td>\n",
       "      <td>18.0</td>\n",
       "      <td>0.0</td>\n",
       "      <td>0.0</td>\n",
       "      <td>0.0</td>\n",
       "      <td>NaN</td>\n",
       "    </tr>\n",
       "    <tr>\n",
       "      <th>2</th>\n",
       "      <td>202012220BRK</td>\n",
       "      <td>2020-12-22</td>\n",
       "      <td>0</td>\n",
       "      <td>A</td>\n",
       "      <td>GSW</td>\n",
       "      <td>99</td>\n",
       "      <td>110.5</td>\n",
       "      <td>0.424</td>\n",
       "      <td>14.2</td>\n",
       "      <td>22.8</td>\n",
       "      <td>...</td>\n",
       "      <td>0.038986</td>\n",
       "      <td>14.00</td>\n",
       "      <td>NaN</td>\n",
       "      <td>NaN</td>\n",
       "      <td>0.0</td>\n",
       "      <td>33.0</td>\n",
       "      <td>40.0</td>\n",
       "      <td>25.0</td>\n",
       "      <td>2.0</td>\n",
       "      <td>NaN</td>\n",
       "    </tr>\n",
       "    <tr>\n",
       "      <th>3</th>\n",
       "      <td>202012220BRK</td>\n",
       "      <td>2020-12-22</td>\n",
       "      <td>0</td>\n",
       "      <td>A</td>\n",
       "      <td>GSW</td>\n",
       "      <td>99</td>\n",
       "      <td>110.5</td>\n",
       "      <td>0.424</td>\n",
       "      <td>14.2</td>\n",
       "      <td>22.8</td>\n",
       "      <td>...</td>\n",
       "      <td>0.082361</td>\n",
       "      <td>16.52</td>\n",
       "      <td>NaN</td>\n",
       "      <td>NaN</td>\n",
       "      <td>0.0</td>\n",
       "      <td>0.0</td>\n",
       "      <td>0.0</td>\n",
       "      <td>0.0</td>\n",
       "      <td>100.0</td>\n",
       "      <td>NaN</td>\n",
       "    </tr>\n",
       "    <tr>\n",
       "      <th>4</th>\n",
       "      <td>202012220BRK</td>\n",
       "      <td>2020-12-22</td>\n",
       "      <td>0</td>\n",
       "      <td>A</td>\n",
       "      <td>GSW</td>\n",
       "      <td>99</td>\n",
       "      <td>110.5</td>\n",
       "      <td>0.424</td>\n",
       "      <td>14.2</td>\n",
       "      <td>22.8</td>\n",
       "      <td>...</td>\n",
       "      <td>0.046404</td>\n",
       "      <td>6.88</td>\n",
       "      <td>NaN</td>\n",
       "      <td>NaN</td>\n",
       "      <td>0.0</td>\n",
       "      <td>0.0</td>\n",
       "      <td>2.0</td>\n",
       "      <td>33.0</td>\n",
       "      <td>65.0</td>\n",
       "      <td>NaN</td>\n",
       "    </tr>\n",
       "  </tbody>\n",
       "</table>\n",
       "<p>5 rows × 81 columns</p>\n",
       "</div>"
      ],
      "text/plain": [
       "        game_id   game_date  OT H_A Team_Abbrev  Team_Score  Team_pace  \\\n",
       "0  202012220BRK  2020-12-22   0   A         GSW          99      110.5   \n",
       "1  202012220BRK  2020-12-22   0   A         GSW          99      110.5   \n",
       "2  202012220BRK  2020-12-22   0   A         GSW          99      110.5   \n",
       "3  202012220BRK  2020-12-22   0   A         GSW          99      110.5   \n",
       "4  202012220BRK  2020-12-22   0   A         GSW          99      110.5   \n",
       "\n",
       "   Team_efg_pct  Team_tov_pct  Team_orb_pct  ...  pf_per_minute     ts  \\\n",
       "0         0.424          14.2          22.8  ...       0.128068  17.76   \n",
       "1         0.424          14.2          22.8  ...       0.032985  22.76   \n",
       "2         0.424          14.2          22.8  ...       0.038986  14.00   \n",
       "3         0.424          14.2          22.8  ...       0.082361  16.52   \n",
       "4         0.424          14.2          22.8  ...       0.046404   6.88   \n",
       "\n",
       "  last_60_minutes_per_game_starting last_60_minutes_per_game_bench   PG%  \\\n",
       "0                               NaN                            NaN   0.0   \n",
       "1                               NaN                            NaN  82.0   \n",
       "2                               NaN                            NaN   0.0   \n",
       "3                               NaN                            NaN   0.0   \n",
       "4                               NaN                            NaN   0.0   \n",
       "\n",
       "    SG%   SF%   PF%     C%  active_position_minutes  \n",
       "0   0.0  47.0  51.0    3.0                      NaN  \n",
       "1  18.0   0.0   0.0    0.0                      NaN  \n",
       "2  33.0  40.0  25.0    2.0                      NaN  \n",
       "3   0.0   0.0   0.0  100.0                      NaN  \n",
       "4   0.0   2.0  33.0   65.0                      NaN  \n",
       "\n",
       "[5 rows x 81 columns]"
      ]
     },
     "execution_count": 10,
     "metadata": {},
     "output_type": "execute_result"
    }
   ],
   "source": [
    "data.head()"
   ]
  },
  {
   "cell_type": "code",
   "execution_count": 11,
   "metadata": {},
   "outputs": [
    {
     "data": {
      "text/plain": [
       "(2314, 17)"
      ]
     },
     "execution_count": 11,
     "metadata": {},
     "output_type": "execute_result"
    }
   ],
   "source": [
    "games_data.shape"
   ]
  },
  {
   "cell_type": "code",
   "execution_count": 12,
   "metadata": {},
   "outputs": [],
   "source": [
    "#team_pace - mis punktide suunas liigub/liikus\n",
    "#team_efg_pct - skoorimis%, arvestab ka kolmeseid\n",
    "#team_tov_pct - palli kaotuste protsent \n",
    "#team_orb_pct - ründelaua protsent\n",
    "#team_ftr - vabavisete rate (läks viskele - kas tuli vabavise?)"
   ]
  },
  {
   "cell_type": "code",
   "execution_count": 13,
   "metadata": {},
   "outputs": [],
   "source": [
    "teams_data = pd.DataFrame([data.Team_Abbrev]).T.drop_duplicates('Team_Abbrev')"
   ]
  },
  {
   "cell_type": "code",
   "execution_count": 14,
   "metadata": {
    "scrolled": true
   },
   "outputs": [
    {
     "name": "stdout",
     "output_type": "stream",
     "text": [
      "GSW\n"
     ]
    },
    {
     "ename": "AttributeError",
     "evalue": "'DataFrame' object has no attribute 'Team_Abbrev'",
     "output_type": "error",
     "traceback": [
      "\u001b[1;31m---------------------------------------------------------------------------\u001b[0m",
      "\u001b[1;31mAttributeError\u001b[0m                            Traceback (most recent call last)",
      "Input \u001b[1;32mIn [14]\u001b[0m, in \u001b[0;36m<cell line: 1>\u001b[1;34m()\u001b[0m\n\u001b[0;32m      1\u001b[0m \u001b[38;5;28;01mfor\u001b[39;00m t \u001b[38;5;129;01min\u001b[39;00m teams_data[\u001b[38;5;124m'\u001b[39m\u001b[38;5;124mTeam_Abbrev\u001b[39m\u001b[38;5;124m'\u001b[39m]:\n\u001b[0;32m      2\u001b[0m     \u001b[38;5;28mprint\u001b[39m(t)\n\u001b[1;32m----> 3\u001b[0m     score1 \u001b[38;5;241m=\u001b[39m games_data[\u001b[43mgames_data\u001b[49m\u001b[38;5;241;43m.\u001b[39;49m\u001b[43mTeam_Abbrev\u001b[49m \u001b[38;5;241m==\u001b[39m t][\u001b[38;5;124m'\u001b[39m\u001b[38;5;124mTeam_Score\u001b[39m\u001b[38;5;124m'\u001b[39m]\u001b[38;5;241m.\u001b[39msum()\n\u001b[0;32m      4\u001b[0m     score2 \u001b[38;5;241m=\u001b[39m games_data[games_data\u001b[38;5;241m.\u001b[39mOpponent_Abbrev \u001b[38;5;241m==\u001b[39m t][\u001b[38;5;124m'\u001b[39m\u001b[38;5;124mOpponent_Score\u001b[39m\u001b[38;5;124m'\u001b[39m]\u001b[38;5;241m.\u001b[39msum()\n\u001b[0;32m      6\u001b[0m     \u001b[38;5;28mprint\u001b[39m(score1 \u001b[38;5;241m+\u001b[39m score2)\n",
      "File \u001b[1;32m~\\anaconda3\\lib\\site-packages\\pandas\\core\\generic.py:5575\u001b[0m, in \u001b[0;36mNDFrame.__getattr__\u001b[1;34m(self, name)\u001b[0m\n\u001b[0;32m   5568\u001b[0m \u001b[38;5;28;01mif\u001b[39;00m (\n\u001b[0;32m   5569\u001b[0m     name \u001b[38;5;129;01mnot\u001b[39;00m \u001b[38;5;129;01min\u001b[39;00m \u001b[38;5;28mself\u001b[39m\u001b[38;5;241m.\u001b[39m_internal_names_set\n\u001b[0;32m   5570\u001b[0m     \u001b[38;5;129;01mand\u001b[39;00m name \u001b[38;5;129;01mnot\u001b[39;00m \u001b[38;5;129;01min\u001b[39;00m \u001b[38;5;28mself\u001b[39m\u001b[38;5;241m.\u001b[39m_metadata\n\u001b[0;32m   5571\u001b[0m     \u001b[38;5;129;01mand\u001b[39;00m name \u001b[38;5;129;01mnot\u001b[39;00m \u001b[38;5;129;01min\u001b[39;00m \u001b[38;5;28mself\u001b[39m\u001b[38;5;241m.\u001b[39m_accessors\n\u001b[0;32m   5572\u001b[0m     \u001b[38;5;129;01mand\u001b[39;00m \u001b[38;5;28mself\u001b[39m\u001b[38;5;241m.\u001b[39m_info_axis\u001b[38;5;241m.\u001b[39m_can_hold_identifiers_and_holds_name(name)\n\u001b[0;32m   5573\u001b[0m ):\n\u001b[0;32m   5574\u001b[0m     \u001b[38;5;28;01mreturn\u001b[39;00m \u001b[38;5;28mself\u001b[39m[name]\n\u001b[1;32m-> 5575\u001b[0m \u001b[38;5;28;01mreturn\u001b[39;00m \u001b[38;5;28;43mobject\u001b[39;49m\u001b[38;5;241;43m.\u001b[39;49m\u001b[38;5;21;43m__getattribute__\u001b[39;49m\u001b[43m(\u001b[49m\u001b[38;5;28;43mself\u001b[39;49m\u001b[43m,\u001b[49m\u001b[43m \u001b[49m\u001b[43mname\u001b[49m\u001b[43m)\u001b[49m\n",
      "\u001b[1;31mAttributeError\u001b[0m: 'DataFrame' object has no attribute 'Team_Abbrev'"
     ]
    }
   ],
   "source": [
    "for t in teams_data['Team_Abbrev']:\n",
    "    print(t)\n",
    "    score1 = games_data[games_data.Team_Abbrev == t]['Team_Score'].sum()\n",
    "    score2 = games_data[games_data.Opponent_Abbrev == t]['Opponent_Score'].sum()\n",
    "    \n",
    "    print(score1 + score2)"
   ]
  },
  {
   "cell_type": "code",
   "execution_count": null,
   "metadata": {},
   "outputs": [],
   "source": [
    "teams_data['points'] = 0\n",
    "\n",
    "for t in teams_data['Team_Abbrev']:\n",
    "    score1 = games_data[games_data.Team_Abbrev == t]['Team_Score'].sum()\n",
    "    score2 = games_data[games_data.Opponent_Abbrev == t]['Opponent_Score'].sum()\n",
    "    \n",
    "    #teams_data[teams_data.Team_Abbrev == t]['points'] == score1 + score2\n",
    "    \n",
    "    teams_data['points'].loc[teams_data['Team_Abbrev'] == t] = score1 + score2\n",
    "    \n",
    "    \n",
    "print(teams_data.shape)\n",
    "print(teams_data.head())"
   ]
  },
  {
   "cell_type": "code",
   "execution_count": null,
   "metadata": {},
   "outputs": [],
   "source": []
  },
  {
   "cell_type": "code",
   "execution_count": null,
   "metadata": {},
   "outputs": [],
   "source": [
    "teams_data.plot(x='Team_Abbrev', y='points', kind='barh', color='b', figsize=(6,8))"
   ]
  }
 ],
 "metadata": {
  "kernelspec": {
   "display_name": "Python 3 (ipykernel)",
   "language": "python",
   "name": "python3"
  },
  "language_info": {
   "codemirror_mode": {
    "name": "ipython",
    "version": 3
   },
   "file_extension": ".py",
   "mimetype": "text/x-python",
   "name": "python",
   "nbconvert_exporter": "python",
   "pygments_lexer": "ipython3",
   "version": "3.9.12"
  }
 },
 "nbformat": 4,
 "nbformat_minor": 2
}
