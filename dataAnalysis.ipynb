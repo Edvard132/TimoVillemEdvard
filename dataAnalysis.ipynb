{
 "cells": [
  {
   "cell_type": "markdown",
   "metadata": {},
   "source": [
    "Determine what is expected outcome of the game"
   ]
  },
  {
   "cell_type": "code",
   "execution_count": 1,
   "metadata": {},
   "outputs": [],
   "source": [
    "import numpy as np\n",
    "import pandas as pd\n",
    "import matplotlib.pyplot as plt\n",
    "import seaborn as sns"
   ]
  },
  {
   "cell_type": "code",
   "execution_count": 2,
   "metadata": {},
   "outputs": [
    {
     "name": "stderr",
     "output_type": "stream",
     "text": [
      "C:\\Users\\Kasutaja\\AppData\\Local\\Temp\\ipykernel_15080\\3526434771.py:2: DtypeWarning: Columns (68,69,70) have mixed types. Specify dtype option on import or set low_memory=False.\n",
      "  data = pd.read_csv(\"NBAdataõige.csv\", sep=\",\")\n"
     ]
    }
   ],
   "source": [
    "# Reading data from csv\n",
    "data = pd.read_csv(\"NBAdataõige.csv\", sep=\",\")"
   ]
  },
  {
   "cell_type": "code",
   "execution_count": 3,
   "metadata": {},
   "outputs": [
    {
     "data": {
      "text/plain": [
       "Index(['game_id', 'game_date', 'OT', 'H_A', 'Team_Abbrev', 'Team_Score',\n",
       "       'Team_pace', 'Team_efg_pct', 'Team_tov_pct', 'Team_orb_pct',\n",
       "       'Team_ft_rate', 'Team_off_rtg', 'Inactives', 'Opponent_Abbrev',\n",
       "       'Opponent_Score', 'Opponent_pace', 'Opponent_efg_pct',\n",
       "       'Opponent_tov_pct', 'Opponent_orb_pct', 'Opponent_ft_rate',\n",
       "       'Opponent_off_rtg', 'player', 'player_id', 'starter', 'mp', 'fg', 'fga',\n",
       "       'fg_pct', 'fg3', 'fg3a', 'fg3_pct', 'ft', 'fta', 'ft_pct', 'orb', 'drb',\n",
       "       'trb', 'ast', 'stl', 'blk', 'tov', 'pf', 'pts', 'plus_minus',\n",
       "       'did_not_play', 'is_inactive', 'ts_pct', 'efg_pct', 'fg3a_per_fga_pct',\n",
       "       'fta_per_fga_pct', 'orb_pct', 'drb_pct', 'trb_pct', 'ast_pct',\n",
       "       'stl_pct', 'blk_pct', 'tov_pct', 'usg_pct', 'off_rtg', 'def_rtg', 'bpm',\n",
       "       'season', 'minutes', 'double_double', 'triple_double', 'DKP', 'FDP',\n",
       "       'SDP', 'DKP_per_minute', 'FDP_per_minute', 'SDP_per_minute',\n",
       "       'pf_per_minute', 'ts', 'last_60_minutes_per_game_starting',\n",
       "       'last_60_minutes_per_game_bench', 'PG%', 'SG%', 'SF%', 'PF%', 'C%',\n",
       "       'active_position_minutes'],\n",
       "      dtype='object')"
      ]
     },
     "execution_count": 3,
     "metadata": {},
     "output_type": "execute_result"
    }
   ],
   "source": [
    "data.columns"
   ]
  },
  {
   "cell_type": "code",
   "execution_count": 35,
   "metadata": {},
   "outputs": [
    {
     "data": {
      "text/html": [
       "<div>\n",
       "<style scoped>\n",
       "    .dataframe tbody tr th:only-of-type {\n",
       "        vertical-align: middle;\n",
       "    }\n",
       "\n",
       "    .dataframe tbody tr th {\n",
       "        vertical-align: top;\n",
       "    }\n",
       "\n",
       "    .dataframe thead th {\n",
       "        text-align: right;\n",
       "    }\n",
       "</style>\n",
       "<table border=\"1\" class=\"dataframe\">\n",
       "  <thead>\n",
       "    <tr style=\"text-align: right;\">\n",
       "      <th></th>\n",
       "      <th>game_id</th>\n",
       "      <th>game_date</th>\n",
       "      <th>OT</th>\n",
       "      <th>H_A</th>\n",
       "      <th>Team_Abbrev</th>\n",
       "      <th>Team_Score</th>\n",
       "      <th>Team_pace</th>\n",
       "      <th>Team_efg_pct</th>\n",
       "      <th>Team_tov_pct</th>\n",
       "      <th>Team_orb_pct</th>\n",
       "      <th>...</th>\n",
       "      <th>pf_per_minute</th>\n",
       "      <th>ts</th>\n",
       "      <th>last_60_minutes_per_game_starting</th>\n",
       "      <th>last_60_minutes_per_game_bench</th>\n",
       "      <th>PG%</th>\n",
       "      <th>SG%</th>\n",
       "      <th>SF%</th>\n",
       "      <th>PF%</th>\n",
       "      <th>C%</th>\n",
       "      <th>active_position_minutes</th>\n",
       "    </tr>\n",
       "  </thead>\n",
       "  <tbody>\n",
       "    <tr>\n",
       "      <th>0</th>\n",
       "      <td>202012220BRK</td>\n",
       "      <td>2020-12-22</td>\n",
       "      <td>0</td>\n",
       "      <td>A</td>\n",
       "      <td>GSW</td>\n",
       "      <td>99</td>\n",
       "      <td>110.5</td>\n",
       "      <td>0.424</td>\n",
       "      <td>14.2</td>\n",
       "      <td>22.8</td>\n",
       "      <td>...</td>\n",
       "      <td>0.128068</td>\n",
       "      <td>17.76</td>\n",
       "      <td>NaN</td>\n",
       "      <td>NaN</td>\n",
       "      <td>0.0</td>\n",
       "      <td>0.0</td>\n",
       "      <td>47.0</td>\n",
       "      <td>51.0</td>\n",
       "      <td>3.0</td>\n",
       "      <td>NaN</td>\n",
       "    </tr>\n",
       "    <tr>\n",
       "      <th>1</th>\n",
       "      <td>202012220BRK</td>\n",
       "      <td>2020-12-22</td>\n",
       "      <td>0</td>\n",
       "      <td>A</td>\n",
       "      <td>GSW</td>\n",
       "      <td>99</td>\n",
       "      <td>110.5</td>\n",
       "      <td>0.424</td>\n",
       "      <td>14.2</td>\n",
       "      <td>22.8</td>\n",
       "      <td>...</td>\n",
       "      <td>0.032985</td>\n",
       "      <td>22.76</td>\n",
       "      <td>NaN</td>\n",
       "      <td>NaN</td>\n",
       "      <td>82.0</td>\n",
       "      <td>18.0</td>\n",
       "      <td>0.0</td>\n",
       "      <td>0.0</td>\n",
       "      <td>0.0</td>\n",
       "      <td>NaN</td>\n",
       "    </tr>\n",
       "    <tr>\n",
       "      <th>2</th>\n",
       "      <td>202012220BRK</td>\n",
       "      <td>2020-12-22</td>\n",
       "      <td>0</td>\n",
       "      <td>A</td>\n",
       "      <td>GSW</td>\n",
       "      <td>99</td>\n",
       "      <td>110.5</td>\n",
       "      <td>0.424</td>\n",
       "      <td>14.2</td>\n",
       "      <td>22.8</td>\n",
       "      <td>...</td>\n",
       "      <td>0.038986</td>\n",
       "      <td>14.00</td>\n",
       "      <td>NaN</td>\n",
       "      <td>NaN</td>\n",
       "      <td>0.0</td>\n",
       "      <td>33.0</td>\n",
       "      <td>40.0</td>\n",
       "      <td>25.0</td>\n",
       "      <td>2.0</td>\n",
       "      <td>NaN</td>\n",
       "    </tr>\n",
       "    <tr>\n",
       "      <th>3</th>\n",
       "      <td>202012220BRK</td>\n",
       "      <td>2020-12-22</td>\n",
       "      <td>0</td>\n",
       "      <td>A</td>\n",
       "      <td>GSW</td>\n",
       "      <td>99</td>\n",
       "      <td>110.5</td>\n",
       "      <td>0.424</td>\n",
       "      <td>14.2</td>\n",
       "      <td>22.8</td>\n",
       "      <td>...</td>\n",
       "      <td>0.082361</td>\n",
       "      <td>16.52</td>\n",
       "      <td>NaN</td>\n",
       "      <td>NaN</td>\n",
       "      <td>0.0</td>\n",
       "      <td>0.0</td>\n",
       "      <td>0.0</td>\n",
       "      <td>0.0</td>\n",
       "      <td>100.0</td>\n",
       "      <td>NaN</td>\n",
       "    </tr>\n",
       "    <tr>\n",
       "      <th>4</th>\n",
       "      <td>202012220BRK</td>\n",
       "      <td>2020-12-22</td>\n",
       "      <td>0</td>\n",
       "      <td>A</td>\n",
       "      <td>GSW</td>\n",
       "      <td>99</td>\n",
       "      <td>110.5</td>\n",
       "      <td>0.424</td>\n",
       "      <td>14.2</td>\n",
       "      <td>22.8</td>\n",
       "      <td>...</td>\n",
       "      <td>0.046404</td>\n",
       "      <td>6.88</td>\n",
       "      <td>NaN</td>\n",
       "      <td>NaN</td>\n",
       "      <td>0.0</td>\n",
       "      <td>0.0</td>\n",
       "      <td>2.0</td>\n",
       "      <td>33.0</td>\n",
       "      <td>65.0</td>\n",
       "      <td>NaN</td>\n",
       "    </tr>\n",
       "  </tbody>\n",
       "</table>\n",
       "<p>5 rows × 81 columns</p>\n",
       "</div>"
      ],
      "text/plain": [
       "        game_id   game_date  OT H_A Team_Abbrev  Team_Score  Team_pace  \\\n",
       "0  202012220BRK  2020-12-22   0   A         GSW          99      110.5   \n",
       "1  202012220BRK  2020-12-22   0   A         GSW          99      110.5   \n",
       "2  202012220BRK  2020-12-22   0   A         GSW          99      110.5   \n",
       "3  202012220BRK  2020-12-22   0   A         GSW          99      110.5   \n",
       "4  202012220BRK  2020-12-22   0   A         GSW          99      110.5   \n",
       "\n",
       "   Team_efg_pct  Team_tov_pct  Team_orb_pct  ...  pf_per_minute     ts  \\\n",
       "0         0.424          14.2          22.8  ...       0.128068  17.76   \n",
       "1         0.424          14.2          22.8  ...       0.032985  22.76   \n",
       "2         0.424          14.2          22.8  ...       0.038986  14.00   \n",
       "3         0.424          14.2          22.8  ...       0.082361  16.52   \n",
       "4         0.424          14.2          22.8  ...       0.046404   6.88   \n",
       "\n",
       "  last_60_minutes_per_game_starting last_60_minutes_per_game_bench   PG%  \\\n",
       "0                               NaN                            NaN   0.0   \n",
       "1                               NaN                            NaN  82.0   \n",
       "2                               NaN                            NaN   0.0   \n",
       "3                               NaN                            NaN   0.0   \n",
       "4                               NaN                            NaN   0.0   \n",
       "\n",
       "    SG%   SF%   PF%     C%  active_position_minutes  \n",
       "0   0.0  47.0  51.0    3.0                      NaN  \n",
       "1  18.0   0.0   0.0    0.0                      NaN  \n",
       "2  33.0  40.0  25.0    2.0                      NaN  \n",
       "3   0.0   0.0   0.0  100.0                      NaN  \n",
       "4   0.0   2.0  33.0   65.0                      NaN  \n",
       "\n",
       "[5 rows x 81 columns]"
      ]
     },
     "execution_count": 35,
     "metadata": {},
     "output_type": "execute_result"
    }
   ],
   "source": [
    "data.head()"
   ]
  },
  {
   "cell_type": "code",
   "execution_count": 4,
   "metadata": {},
   "outputs": [
    {
     "data": {
      "text/plain": [
       "(2314,)"
      ]
     },
     "execution_count": 4,
     "metadata": {},
     "output_type": "execute_result"
    }
   ],
   "source": [
    "data['game_id'].unique().shape"
   ]
  },
  {
   "cell_type": "code",
   "execution_count": 5,
   "metadata": {},
   "outputs": [
    {
     "data": {
      "text/plain": [
       "(89499, 14)"
      ]
     },
     "execution_count": 5,
     "metadata": {},
     "output_type": "execute_result"
    }
   ],
   "source": [
    "# Copying data into new dataset with values that are needed\n",
    "df2 = pd.DataFrame([data.game_id, data.game_date, data.Team_Score, data.player, data.player_id, data.mp, data.fg_pct, data.fg3_pct, data.ft_pct, data.ast, data.stl, data.blk, data.pts, data.plus_minus]).transpose()\n",
    "\n",
    "df2.shape"
   ]
  },
  {
   "cell_type": "code",
   "execution_count": 77,
   "metadata": {},
   "outputs": [
    {
     "data": {
      "text/plain": [
       "(2314, 7)"
      ]
     },
     "execution_count": 77,
     "metadata": {},
     "output_type": "execute_result"
    }
   ],
   "source": [
    "# A dataframe of all played games, with columns for team names and repective scores\n",
    "games_data = pd.DataFrame([data.game_id, data.Team_Abbrev, data.Team_Score, data.Opponent_Abbrev, data.Opponent_Score]).T.drop_duplicates('game_id')\n",
    "games_data.rename(columns = {'Team_Abbrev':'team1', 'Team_Score':'team1_score', 'Opponent_Abbrev':'team2', 'Opponent_Score':'team2_score'}, inplace = True)\n",
    "games_data['home'] = games_data['game_id'].str.slice(-3,)\n",
    "\n",
    "games_data.shape"
   ]
  },
  {
   "cell_type": "code",
   "execution_count": 80,
   "metadata": {},
   "outputs": [],
   "source": [
    "games_data['won'] = games_data.team1_score > games_data.team2_score if games_data.home.equals(games_data.team1) else games_data.team1_score < games_data.team2_score"
   ]
  },
  {
   "cell_type": "code",
   "execution_count": 75,
   "metadata": {},
   "outputs": [],
   "source": []
  },
  {
   "cell_type": "code",
   "execution_count": 81,
   "metadata": {
    "scrolled": true
   },
   "outputs": [
    {
     "data": {
      "text/html": [
       "<div>\n",
       "<style scoped>\n",
       "    .dataframe tbody tr th:only-of-type {\n",
       "        vertical-align: middle;\n",
       "    }\n",
       "\n",
       "    .dataframe tbody tr th {\n",
       "        vertical-align: top;\n",
       "    }\n",
       "\n",
       "    .dataframe thead th {\n",
       "        text-align: right;\n",
       "    }\n",
       "</style>\n",
       "<table border=\"1\" class=\"dataframe\">\n",
       "  <thead>\n",
       "    <tr style=\"text-align: right;\">\n",
       "      <th></th>\n",
       "      <th>game_id</th>\n",
       "      <th>team1</th>\n",
       "      <th>team1_score</th>\n",
       "      <th>team2</th>\n",
       "      <th>team2_score</th>\n",
       "      <th>home</th>\n",
       "      <th>won</th>\n",
       "    </tr>\n",
       "  </thead>\n",
       "  <tbody>\n",
       "    <tr>\n",
       "      <th>0</th>\n",
       "      <td>202012220BRK</td>\n",
       "      <td>GSW</td>\n",
       "      <td>99</td>\n",
       "      <td>BRK</td>\n",
       "      <td>125</td>\n",
       "      <td>BRK</td>\n",
       "      <td>True</td>\n",
       "    </tr>\n",
       "    <tr>\n",
       "      <th>13</th>\n",
       "      <td>202012250MIL</td>\n",
       "      <td>GSW</td>\n",
       "      <td>99</td>\n",
       "      <td>MIL</td>\n",
       "      <td>138</td>\n",
       "      <td>MIL</td>\n",
       "      <td>True</td>\n",
       "    </tr>\n",
       "    <tr>\n",
       "      <th>26</th>\n",
       "      <td>202012270CHI</td>\n",
       "      <td>GSW</td>\n",
       "      <td>129</td>\n",
       "      <td>CHI</td>\n",
       "      <td>128</td>\n",
       "      <td>CHI</td>\n",
       "      <td>False</td>\n",
       "    </tr>\n",
       "    <tr>\n",
       "      <th>38</th>\n",
       "      <td>202012290DET</td>\n",
       "      <td>GSW</td>\n",
       "      <td>116</td>\n",
       "      <td>DET</td>\n",
       "      <td>106</td>\n",
       "      <td>DET</td>\n",
       "      <td>False</td>\n",
       "    </tr>\n",
       "    <tr>\n",
       "      <th>50</th>\n",
       "      <td>202101010GSW</td>\n",
       "      <td>GSW</td>\n",
       "      <td>98</td>\n",
       "      <td>POR</td>\n",
       "      <td>123</td>\n",
       "      <td>GSW</td>\n",
       "      <td>True</td>\n",
       "    </tr>\n",
       "  </tbody>\n",
       "</table>\n",
       "</div>"
      ],
      "text/plain": [
       "         game_id team1 team1_score team2 team2_score home    won\n",
       "0   202012220BRK   GSW          99   BRK         125  BRK   True\n",
       "13  202012250MIL   GSW          99   MIL         138  MIL   True\n",
       "26  202012270CHI   GSW         129   CHI         128  CHI  False\n",
       "38  202012290DET   GSW         116   DET         106  DET  False\n",
       "50  202101010GSW   GSW          98   POR         123  GSW   True"
      ]
     },
     "execution_count": 81,
     "metadata": {},
     "output_type": "execute_result"
    }
   ],
   "source": [
    "games_data.head()"
   ]
  },
  {
   "cell_type": "code",
   "execution_count": 8,
   "metadata": {},
   "outputs": [
    {
     "data": {
      "text/plain": [
       "(2314, 6)"
      ]
     },
     "execution_count": 8,
     "metadata": {},
     "output_type": "execute_result"
    }
   ],
   "source": [
    "games_data.shape"
   ]
  },
  {
   "cell_type": "code",
   "execution_count": 36,
   "metadata": {},
   "outputs": [],
   "source": [
    "teams_data = pd.DataFrame([data.Team_Abbrev]).T.drop_duplicates('Team_Abbrev')"
   ]
  },
  {
   "cell_type": "code",
   "execution_count": 37,
   "metadata": {
    "scrolled": true
   },
   "outputs": [
    {
     "name": "stdout",
     "output_type": "stream",
     "text": [
      "GSW\n",
      "15311\n",
      "BRK\n",
      "18358\n",
      "LAC\n",
      "20188\n",
      "LAL\n",
      "18998\n",
      "CHO\n",
      "14685\n",
      "CLE\n",
      "14424\n",
      "NYK\n",
      "15174\n",
      "IND\n",
      "16953\n",
      "MIA\n",
      "18662\n",
      "ORL\n",
      "15854\n",
      "WAS\n",
      "17428\n",
      "PHI\n",
      "18063\n",
      "NOP\n",
      "16592\n",
      "TOR\n",
      "17332\n",
      "MIL\n",
      "20960\n",
      "BOS\n",
      "18830\n",
      "ATL\n",
      "17587\n",
      "CHI\n",
      "14914\n",
      "SAS\n",
      "16192\n",
      "MEM\n",
      "17293\n",
      "DET\n",
      "14754\n",
      "MIN\n",
      "15321\n",
      "SAC\n",
      "16116\n",
      "DEN\n",
      "19597\n",
      "UTA\n",
      "18475\n",
      "POR\n",
      "18244\n",
      "DAL\n",
      "18316\n",
      "PHO\n",
      "18992\n",
      "OKC\n",
      "16238\n",
      "HOU\n",
      "17607\n"
     ]
    }
   ],
   "source": [
    "for t in teams_data['Team_Abbrev']:\n",
    "    print(t)\n",
    "    score1 = games_data[games_data.Team_Abbrev == t]['Team_Score'].sum()\n",
    "    score2 = games_data[games_data.Opponent_Abbrev == t]['Opponent_Score'].sum()\n",
    "    \n",
    "    print(score1 + score2)"
   ]
  },
  {
   "cell_type": "code",
   "execution_count": 38,
   "metadata": {},
   "outputs": [
    {
     "name": "stdout",
     "output_type": "stream",
     "text": [
      "(30, 3)\n",
      "   index Team_Abbrev  points\n",
      "0      0         GSW   15311\n",
      "1    940         BRK   18358\n",
      "2   2949         LAC   20188\n",
      "3   5227         LAL   18998\n",
      "4   7210         CHO   14685\n"
     ]
    },
    {
     "name": "stderr",
     "output_type": "stream",
     "text": [
      "C:\\Users\\Kasutaja\\AppData\\Local\\Temp\\ipykernel_15080\\2817211541.py:9: SettingWithCopyWarning: \n",
      "A value is trying to be set on a copy of a slice from a DataFrame\n",
      "\n",
      "See the caveats in the documentation: https://pandas.pydata.org/pandas-docs/stable/user_guide/indexing.html#returning-a-view-versus-a-copy\n",
      "  teams_data['points'].loc[teams_data['Team_Abbrev'] == t] = score1 + score2\n"
     ]
    }
   ],
   "source": [
    "teams_data['points'] = 0\n",
    "\n",
    "for t in teams_data['Team_Abbrev']:\n",
    "    score1 = games_data[games_data.Team_Abbrev == t]['Team_Score'].sum()\n",
    "    score2 = games_data[games_data.Opponent_Abbrev == t]['Opponent_Score'].sum()\n",
    "    \n",
    "    #teams_data[teams_data.Team_Abbrev == t]['points'] == score1 + score2\n",
    "    \n",
    "    teams_data['points'].loc[teams_data['Team_Abbrev'] == t] = score1 + score2\n",
    "    \n",
    "    \n",
    "print(teams_data.shape)\n",
    "print(teams_data.head())"
   ]
  },
  {
   "cell_type": "code",
   "execution_count": null,
   "metadata": {},
   "outputs": [],
   "source": []
  },
  {
   "cell_type": "code",
   "execution_count": 49,
   "metadata": {},
   "outputs": [
    {
     "data": {
      "text/plain": [
       "<AxesSubplot:ylabel='Team_Abbrev'>"
      ]
     },
     "execution_count": 49,
     "metadata": {},
     "output_type": "execute_result"
    },
    {
     "data": {
      "image/png": "[encoded data removed]",
      "text/plain": [
       "<Figure size 600x800 with 1 Axes>"
      ]
     },
     "metadata": {},
     "output_type": "display_data"
    }
   ],
   "source": [
    "teams_data.plot(x='Team_Abbrev', y='points', kind='barh', color='b', figsize=(6,8))"
   ]
  }
 ],
 "metadata": {
  "kernelspec": {
   "display_name": "Python 3 (ipykernel)",
   "language": "python",
   "name": "python3"
  },
  "language_info": {
   "codemirror_mode": {
    "name": "ipython",
    "version": 3
   },
   "file_extension": ".py",
   "mimetype": "text/x-python",
   "name": "python",
   "nbconvert_exporter": "python",
   "pygments_lexer": "ipython3",
   "version": "3.9.13"
  }
 },
 "nbformat": 4,
 "nbformat_minor": 2
}
